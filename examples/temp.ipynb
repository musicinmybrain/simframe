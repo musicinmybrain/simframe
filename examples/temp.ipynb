{
 "cells": [
  {
   "cell_type": "markdown",
   "metadata": {},
   "source": [
    "For this tutorial the following packages are required in addition to the `simframe` requirements:\n",
    "\n",
    "* `scipy`\n",
    "\n",
    "In this tutorial you'll learn about the basic usage of `simframe`."
   ]
  },
  {
   "cell_type": "markdown",
   "metadata": {},
   "source": [
    "# Simple Integration"
   ]
  },
  {
   "cell_type": "markdown",
   "metadata": {},
   "source": [
    "This lesson is a showcase for setting up a simple integration with `simframe`. And explains how to write/read data files.\n",
    "\n",
    "The goal is to integrate the following differential equation\n",
    "\n",
    "$\\frac{\\mathrm{d}Y}{\\mathrm{d}x} = b Y$\n",
    "\n",
    "with the initial condition\n",
    "\n",
    "$Y \\left( 0 \\right) = A$.\n",
    "\n",
    "The solution of this problem is given by\n",
    "\n",
    "$Y \\left( x \\right) = A \\cdot \\exp \\left( bx \\right)$."
   ]
  },
  {
   "cell_type": "markdown",
   "metadata": {},
   "source": [
    "## Setting the problem parameters"
   ]
  },
  {
   "cell_type": "code",
   "execution_count": 1,
   "metadata": {},
   "outputs": [],
   "source": [
    "A  = 10. # Initial value\n",
    "b  = -1. # decay scale\n",
    "dx = 0.1 # Stepsize"
   ]
  },
  {
   "cell_type": "markdown",
   "metadata": {},
   "source": [
    "## Initializing the simulation frame"
   ]
  },
  {
   "cell_type": "code",
   "execution_count": 2,
   "metadata": {},
   "outputs": [],
   "source": [
    "from simframe import Frame"
   ]
  },
  {
   "cell_type": "code",
   "execution_count": 3,
   "metadata": {},
   "outputs": [],
   "source": [
    "sim = Frame(description=\"Simple Integration\")"
   ]
  },
  {
   "cell_type": "code",
   "execution_count": 4,
   "metadata": {},
   "outputs": [
    {
     "data": {
      "text/plain": [
       "Frame (Simple Integration)\n",
       "--------------------------\n",
       "    Integrator   : \u001b[93mnot specified\u001b[0m\n",
       "    Writer       : \u001b[93mnot specified\u001b[0m"
      ]
     },
     "execution_count": 4,
     "metadata": {},
     "output_type": "execute_result"
    }
   ],
   "source": [
    "sim"
   ]
  },
  {
   "cell_type": "markdown",
   "metadata": {},
   "source": [
    "This created an empty framework `sim`.\n",
    "\n",
    "As you can see the Integrator and Writer of the Frame object are not set initially. The Writer contains the instructions for writing output files. If you do not want to outputs you can ommit setting it.\n",
    "\n",
    "The Integrator, on the other hand, has to be set for a successful execution. At the minimum it has to control when to stop the simulation."
   ]
  },
  {
   "cell_type": "markdown",
   "metadata": {},
   "source": [
    "## Setting the Writer\n",
    "\n",
    "`simframe` comes with a built-in writer for writing outputs in the `.hdf5` file format using the `h5py` module."
   ]
  },
  {
   "cell_type": "code",
   "execution_count": 5,
   "metadata": {},
   "outputs": [],
   "source": [
    "from simframe import writers"
   ]
  },
  {
   "cell_type": "markdown",
   "metadata": {},
   "source": [
    "The writer can be simply assigned to the frame object"
   ]
  },
  {
   "cell_type": "code",
   "execution_count": 6,
   "metadata": {},
   "outputs": [],
   "source": [
    "from simframe.io import Writer"
   ]
  },
  {
   "cell_type": "code",
   "execution_count": 7,
   "metadata": {},
   "outputs": [
    {
     "data": {
      "text/plain": [
       "True"
      ]
     },
     "execution_count": 7,
     "metadata": {},
     "output_type": "execute_result"
    }
   ],
   "source": [
    "isinstance(writers.namespacewriter, Writer)"
   ]
  },
  {
   "cell_type": "code",
   "execution_count": 8,
   "metadata": {},
   "outputs": [],
   "source": [
    "sim.writer = writers.namespacewriter"
   ]
  },
  {
   "cell_type": "code",
   "execution_count": 9,
   "metadata": {},
   "outputs": [
    {
     "data": {
      "text/plain": [
       "Frame (Simple Integration)\n",
       "--------------------------\n",
       "    Integrator   : \u001b[93mnot specified\u001b[0m\n",
       "    Writer       : Writer (Namespace writer)"
      ]
     },
     "execution_count": 9,
     "metadata": {},
     "output_type": "execute_result"
    }
   ],
   "source": [
    "sim"
   ]
  },
  {
   "cell_type": "markdown",
   "metadata": {},
   "source": [
    "## Adding fields\n",
    "\n",
    "We now have to add fields to our simulation frame, which has a method for this task.\n",
    "\n",
    "Here we add the field for our variable `Y` and initialize it with the initial condition `A`.\\\n",
    "The value you set has to be of the correct shape and data type. It cannot be changed later."
   ]
  },
  {
   "cell_type": "code",
   "execution_count": 10,
   "metadata": {},
   "outputs": [],
   "source": [
    "sim.addfield(\"Y\", A)"
   ]
  },
  {
   "cell_type": "code",
   "execution_count": 11,
   "metadata": {},
   "outputs": [
    {
     "data": {
      "text/plain": [
       "Frame (Simple Integration)\n",
       "--------------------------\n",
       "    Y            : Field\n",
       "  -----\n",
       "    Integrator   : \u001b[93mnot specified\u001b[0m\n",
       "    Writer       : Writer (Namespace writer)"
      ]
     },
     "execution_count": 11,
     "metadata": {},
     "output_type": "execute_result"
    }
   ],
   "source": [
    "sim"
   ]
  },
  {
   "cell_type": "markdown",
   "metadata": {},
   "source": [
    "The field `Y` can be easily accessed and manipulated. All `NumPy` functions for `ndarray` work on it.\n",
    "\n",
    "For example:"
   ]
  },
  {
   "cell_type": "code",
   "execution_count": 12,
   "metadata": {},
   "outputs": [
    {
     "data": {
      "text/plain": [
       "10.0"
      ]
     },
     "execution_count": 12,
     "metadata": {},
     "output_type": "execute_result"
    }
   ],
   "source": [
    "sim.Y"
   ]
  },
  {
   "cell_type": "code",
   "execution_count": 13,
   "metadata": {},
   "outputs": [
    {
     "data": {
      "text/plain": [
       "20.0"
      ]
     },
     "execution_count": 13,
     "metadata": {},
     "output_type": "execute_result"
    }
   ],
   "source": [
    "sim.Y * 2"
   ]
  },
  {
   "cell_type": "code",
   "execution_count": 14,
   "metadata": {},
   "outputs": [
    {
     "data": {
      "text/plain": [
       "22026.465794806718"
      ]
     },
     "execution_count": 14,
     "metadata": {},
     "output_type": "execute_result"
    }
   ],
   "source": [
    "import numpy as np\n",
    "\n",
    "np.exp(sim.Y)"
   ]
  },
  {
   "cell_type": "markdown",
   "metadata": {},
   "source": [
    "We now have to add a field for `x`. But since this is our integration variable, we have to add a special field for it.\\\n",
    "Here we set the initial value to `0`:"
   ]
  },
  {
   "cell_type": "code",
   "execution_count": 15,
   "metadata": {},
   "outputs": [],
   "source": [
    "sim.addintegrationvariable(\"x\", 0.)"
   ]
  },
  {
   "cell_type": "code",
   "execution_count": 16,
   "metadata": {},
   "outputs": [
    {
     "data": {
      "text/plain": [
       "Frame (Simple Integration)\n",
       "--------------------------\n",
       "    x            : Field, \u001b[95mIntegration variable\u001b[0m\n",
       "    Y            : Field\n",
       "  -----\n",
       "    Integrator   : \u001b[93mnot specified\u001b[0m\n",
       "    Writer       : Writer (Namespace writer)"
      ]
     },
     "execution_count": 16,
     "metadata": {},
     "output_type": "execute_result"
    }
   ],
   "source": [
    "sim"
   ]
  },
  {
   "cell_type": "markdown",
   "metadata": {},
   "source": [
    "An integration variable is a special field that has additional functionality for the stepsize of our simulation."
   ]
  },
  {
   "cell_type": "markdown",
   "metadata": {},
   "source": [
    "## Adding functions\n",
    "\n",
    "First we define a function that controls the stepsize of the simulation. It needs to have the frame object as argument. Therefore, anything within the object can be accessed. The function needs to return the value of the stepsize\n",
    "\n",
    "In this simple integration, we want to have a constant stepsize, that we defined above."
   ]
  },
  {
   "cell_type": "code",
   "execution_count": 17,
   "metadata": {},
   "outputs": [],
   "source": [
    "def fdx(sim):\n",
    "    return dx"
   ]
  },
  {
   "cell_type": "markdown",
   "metadata": {},
   "source": [
    "We can now simply assign this function to the integration variable"
   ]
  },
  {
   "cell_type": "code",
   "execution_count": 18,
   "metadata": {},
   "outputs": [],
   "source": [
    "sim.x.updater = fdx"
   ]
  },
  {
   "cell_type": "markdown",
   "metadata": {},
   "source": [
    "Furthermore, the integration variable needs to know the desired snapshots. Snapshots define the value of the integration variable at which an output should be written. Even if you do not want to write output files the list of snapshots needs to contain at least one value, which defines when the simulation should be stopped."
   ]
  },
  {
   "cell_type": "markdown",
   "metadata": {},
   "source": [
    "Here we want to have 20 output files written between `x=0.5` and `x=10.` and assign them to the integration variable."
   ]
  },
  {
   "cell_type": "code",
   "execution_count": 19,
   "metadata": {},
   "outputs": [],
   "source": [
    "snaps = np.linspace(0.5, 10., 20)\n",
    "sim.x.snapshots = snaps"
   ]
  },
  {
   "cell_type": "markdown",
   "metadata": {},
   "source": [
    "The integration variable has now anything it needs to access its additional functionality which are the stepsize,"
   ]
  },
  {
   "cell_type": "code",
   "execution_count": 20,
   "metadata": {},
   "outputs": [
    {
     "data": {
      "text/plain": [
       "0.1"
      ]
     },
     "execution_count": 20,
     "metadata": {},
     "output_type": "execute_result"
    }
   ],
   "source": [
    "sim.x.stepsize"
   ]
  },
  {
   "cell_type": "markdown",
   "metadata": {},
   "source": [
    "the maximum possible stepsize, i.e., the stepsize until the next snapshot,"
   ]
  },
  {
   "cell_type": "code",
   "execution_count": 21,
   "metadata": {},
   "outputs": [
    {
     "data": {
      "text/plain": [
       "0.5"
      ]
     },
     "execution_count": 21,
     "metadata": {},
     "output_type": "execute_result"
    }
   ],
   "source": [
    "sim.x.maxstepsize"
   ]
  },
  {
   "cell_type": "markdown",
   "metadata": {},
   "source": [
    "and the value of the next snapshot, which is here identical to the maximum stepsize."
   ]
  },
  {
   "cell_type": "code",
   "execution_count": 22,
   "metadata": {},
   "outputs": [
    {
     "data": {
      "text/plain": [
       "0.5"
      ]
     },
     "execution_count": 22,
     "metadata": {},
     "output_type": "execute_result"
    }
   ],
   "source": [
    "sim.x.nextsnapshot"
   ]
  },
  {
   "cell_type": "markdown",
   "metadata": {},
   "source": [
    "## Setting the differential equation\n",
    "\n",
    "We also have to define the differential equation of our variable `Y`, that we want to integrate. The function needs as argument the frame object, the itnegration variable, and the variable itself."
   ]
  },
  {
   "cell_type": "code",
   "execution_count": 23,
   "metadata": {},
   "outputs": [],
   "source": [
    "def dYdx(sim, x, Y):\n",
    "    return b*Y"
   ]
  },
  {
   "cell_type": "markdown",
   "metadata": {},
   "source": [
    "We can simply assign it to the variable as before."
   ]
  },
  {
   "cell_type": "code",
   "execution_count": 24,
   "metadata": {},
   "outputs": [],
   "source": [
    "sim.Y.differentiator = dYdx"
   ]
  },
  {
   "cell_type": "markdown",
   "metadata": {},
   "source": [
    "## Setting the integrator\n",
    "\n",
    "Last but not least we have to specify the integrator which controls the simulation. The integrator needs the integration variable as argument upon initialization."
   ]
  },
  {
   "cell_type": "code",
   "execution_count": 25,
   "metadata": {},
   "outputs": [],
   "source": [
    "from simframe import Integrator\n",
    "\n",
    "sim.integrator = Integrator(sim.x, description=\"Simple first order integration\")"
   ]
  },
  {
   "cell_type": "code",
   "execution_count": 26,
   "metadata": {},
   "outputs": [
    {
     "data": {
      "text/plain": [
       "Frame (Simple Integration)\n",
       "--------------------------\n",
       "    x            : Field, \u001b[95mIntegration variable\u001b[0m\n",
       "    Y            : Field\n",
       "  -----\n",
       "    Integrator   : Integrator (Simple first order integration)\n",
       "    Writer       : Writer (Namespace writer)"
      ]
     },
     "execution_count": 26,
     "metadata": {},
     "output_type": "execute_result"
    }
   ],
   "source": [
    "sim"
   ]
  },
  {
   "cell_type": "markdown",
   "metadata": {},
   "source": [
    "If we ran the simulation now, the output files would be written, but `Y` would stay constant. The reason is that the integrator needs a set of instructions that specifiy what to do.\n",
    "\n",
    "An instruction specifies the integration scheme, the variable to be integrated, and the fraction of the stepsize it should operate on. `simframe` provides a simple Euler 1st order scheme. We'll explain later how to create your own schemes."
   ]
  },
  {
   "cell_type": "code",
   "execution_count": 27,
   "metadata": {},
   "outputs": [],
   "source": [
    "from simframe import Instruction\n",
    "from simframe import schemes"
   ]
  },
  {
   "cell_type": "markdown",
   "metadata": {},
   "source": [
    "Here we set up our instruction for integrating `Y` with a simple Euler 1st order scheme by using the full timestep."
   ]
  },
  {
   "cell_type": "code",
   "execution_count": 28,
   "metadata": {},
   "outputs": [],
   "source": [
    "instructions = [Instruction(schemes.expl_1_euler, sim.Y)]"
   ]
  },
  {
   "cell_type": "markdown",
   "metadata": {},
   "source": [
    "We simply add this list to our integrator."
   ]
  },
  {
   "cell_type": "code",
   "execution_count": 29,
   "metadata": {},
   "outputs": [],
   "source": [
    "sim.integrator.instructions = instructions"
   ]
  },
  {
   "cell_type": "markdown",
   "metadata": {},
   "source": [
    "## Running the simulation\n",
    "\n",
    "The simulation is now ready to go!"
   ]
  },
  {
   "cell_type": "code",
   "execution_count": 30,
   "metadata": {},
   "outputs": [
    {
     "data": {
      "text/plain": [
       "Writer (Namespace writer)\n",
       "-------------------------\n",
       "    Writer to convert Frame objects into namespace.\n",
       "    Can be accessed with <Writer>.read.output(i) and\n",
       "    <Writer>.read.all().\n",
       "\n",
       "    Verbosity      : 1"
      ]
     },
     "execution_count": 30,
     "metadata": {},
     "output_type": "execute_result"
    }
   ],
   "source": [
    "sim.writer"
   ]
  },
  {
   "cell_type": "code",
   "execution_count": 31,
   "metadata": {},
   "outputs": [],
   "source": [
    "sim.writer.verbose = 0"
   ]
  },
  {
   "cell_type": "code",
   "execution_count": 32,
   "metadata": {},
   "outputs": [],
   "source": [
    "sim.run()"
   ]
  },
  {
   "cell_type": "markdown",
   "metadata": {},
   "source": [
    "Since the data directory did not exist before, it was created by `simframe` and the output files have been written."
   ]
  },
  {
   "cell_type": "markdown",
   "metadata": {},
   "source": [
    "## Reading the outputs\n",
    "\n",
    "Every writer should provide a reader for its specific file format. It can either list all data files in the data directory,"
   ]
  },
  {
   "cell_type": "markdown",
   "metadata": {},
   "source": [
    "read a single output file,"
   ]
  },
  {
   "cell_type": "markdown",
   "metadata": {},
   "source": [
    "output3 = sim.writer.read.output(3)"
   ]
  },
  {
   "cell_type": "markdown",
   "metadata": {},
   "source": [
    "output3"
   ]
  },
  {
   "cell_type": "markdown",
   "metadata": {},
   "source": [
    "or read the full data set."
   ]
  },
  {
   "cell_type": "markdown",
   "metadata": {},
   "source": [
    "data = sim.writer.read.all()"
   ]
  },
  {
   "cell_type": "markdown",
   "metadata": {},
   "source": [
    "The data is easily accesible from the framework namespace, e.g."
   ]
  },
  {
   "cell_type": "code",
   "execution_count": 33,
   "metadata": {},
   "outputs": [
    {
     "data": {
      "text/plain": [
       "namespace(Y=array([1.00000000e+01, 5.90490000e+00, 3.48678440e+00, 2.05891132e+00,\n",
       "                   1.21576655e+00, 7.17897988e-01, 4.23911583e-01, 2.50315550e-01,\n",
       "                   1.47808829e-01, 8.72796357e-02, 5.15377521e-02, 3.04325272e-02,\n",
       "                   1.79701030e-02, 1.06111661e-02, 6.26578748e-03, 3.69988485e-03,\n",
       "                   2.18474501e-03, 1.29007008e-03, 7.61773480e-04, 4.49819622e-04,\n",
       "                   2.65613989e-04]),\n",
       "          x=array([ 0. ,  0.5,  1. ,  1.5,  2. ,  2.5,  3. ,  3.5,  4. ,  4.5,  5. ,\n",
       "                    5.5,  6. ,  6.5,  7. ,  7.5,  8. ,  8.5,  9. ,  9.5, 10. ]))"
      ]
     },
     "execution_count": 33,
     "metadata": {},
     "output_type": "execute_result"
    }
   ],
   "source": [
    "sim.writer.read.all()"
   ]
  },
  {
   "cell_type": "code",
   "execution_count": 34,
   "metadata": {},
   "outputs": [
    {
     "data": {
      "text/plain": [
       "{'Y': 3.486784400999999, 'x': 1.0}"
      ]
     },
     "execution_count": 34,
     "metadata": {},
     "output_type": "execute_result"
    }
   ],
   "source": [
    "sim.writer.read.output(2)"
   ]
  },
  {
   "cell_type": "markdown",
   "metadata": {},
   "source": [
    "## Fitting of the data\n",
    "\n",
    "This is a simple fit of the data to see if the original values of `A` and `b` can be obtained."
   ]
  },
  {
   "cell_type": "markdown",
   "metadata": {},
   "source": [
    "You can re-run the simulation and play around with `A`, `b`, and `dx` to see how this simple integration behaves. Note: `dx` will never be larger than the distance to the next snapshot. If you want to increase `dx` beyond that you have to reduce the number of snapshots."
   ]
  },
  {
   "cell_type": "code",
   "execution_count": 35,
   "metadata": {},
   "outputs": [
    {
     "data": {
      "text/plain": [
       "[{'Y': 10.0, 'x': 0.0},\n",
       " {'Y': 5.9049, 'x': 0.5},\n",
       " {'Y': 3.486784400999999, 'x': 1.0},\n",
       " {'Y': 2.05891132094649, 'x': 1.5},\n",
       " {'Y': 1.2157665459056932, 'x': 2.0},\n",
       " {'Y': 0.7178979876918532, 'x': 2.5},\n",
       " {'Y': 0.42391158275216256, 'x': 3.0},\n",
       " {'Y': 0.2503155504993246, 'x': 3.5},\n",
       " {'Y': 0.14780882941434623, 'x': 4.0},\n",
       " {'Y': 0.08727963568087714, 'x': 4.5},\n",
       " {'Y': 0.05153775207320105, 'x': 5.0},\n",
       " {'Y': 0.030432527221704433, 'x': 5.5},\n",
       " {'Y': 0.017970102999144217, 'x': 6.0},\n",
       " {'Y': 0.01061116611996465, 'x': 6.5},\n",
       " {'Y': 0.006265787482177915, 'x': 7.0},\n",
       " {'Y': 0.00369988485035123, 'x': 7.5},\n",
       " {'Y': 0.0021847450052838936, 'x': 8.0},\n",
       " {'Y': 0.001290070078170084, 'x': 8.5},\n",
       " {'Y': 0.0007617734804586517, 'x': 9.0},\n",
       " {'Y': 0.0004498196224760284, 'x': 9.5},\n",
       " {'Y': 0.00026561398887586953, 'x': 10.0}]"
      ]
     },
     "execution_count": 35,
     "metadata": {},
     "output_type": "execute_result"
    }
   ],
   "source": [
    "sim.writer._buffer"
   ]
  }
 ],
 "metadata": {
  "kernelspec": {
   "display_name": "Python 3",
   "language": "python",
   "name": "python3"
  },
  "language_info": {
   "codemirror_mode": {
    "name": "ipython",
    "version": 3
   },
   "file_extension": ".py",
   "mimetype": "text/x-python",
   "name": "python",
   "nbconvert_exporter": "python",
   "pygments_lexer": "ipython3",
   "version": "3.8.3"
  }
 },
 "nbformat": 4,
 "nbformat_minor": 4
}
