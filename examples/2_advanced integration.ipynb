{
 "cells": [
  {
   "cell_type": "markdown",
   "metadata": {},
   "source": [
    "For this tutorial the following packages are required in addition to the `simframe` requirements:\n",
    "\n",
    "* `astropy`\n",
    "* `matplotlib`\n",
    "\n",
    "In this tutorial you'll learn about the usage of groups and the setup of more complex integration instructions."
   ]
  },
  {
   "cell_type": "markdown",
   "metadata": {},
   "source": [
    "# Advanced Integration\n",
    "\n",
    "Let's have a look at orbital integration.\\\n",
    "Consider a planet (we'll call it \"Earth\") orbiting a star (let's say the \"Sun\"). How does its orbit look like?\n",
    "\n",
    "The equations of motion are determined by a set of two differential equations for the object's position $\\vec{r}$ and velocity $\\vec{v}$.\n",
    "\n",
    "$\\frac{\\mathrm{d}}{\\mathrm{d}t} \\vec{r} = \\vec{v}$\n",
    "\n",
    "$m\\frac{\\mathrm{d}}{\\mathrm{d}t} \\vec{v} = \\vec{F}_\\mathrm{G}$\n",
    "\n",
    "The gravitational force $F_\\mathrm{G}$ of a body of mass $M$ and position $\\vec{R}$ acting on a body of mass $m$ at position $\\vec{r}$ is given by\n",
    "\n",
    "$\\vec{F}_\\mathrm{G} = -GmM\\frac{\\vec{r}-\\vec{R}}{\\left| \\vec{r}-\\vec{R} \\right|^3}$"
   ]
  },
  {
   "cell_type": "markdown",
   "metadata": {},
   "source": [
    "## Setting up the problem\n",
    "\n",
    "First we need to add fields for postion, velocity, and mass for Earth and Sun.\\\n",
    "To have more structure we group the fields by Earth and Sun."
   ]
  },
  {
   "cell_type": "code",
   "execution_count": 1,
   "metadata": {},
   "outputs": [],
   "source": [
    "from simframe import Frame"
   ]
  },
  {
   "cell_type": "code",
   "execution_count": 2,
   "metadata": {},
   "outputs": [],
   "source": [
    "sim = Frame(description=\"Sun-Earth system\")"
   ]
  },
  {
   "cell_type": "code",
   "execution_count": 3,
   "metadata": {},
   "outputs": [],
   "source": [
    "sim.addgroup(\"Sun\")\n",
    "sim.addgroup(\"Earth\")"
   ]
  },
  {
   "cell_type": "code",
   "execution_count": 4,
   "metadata": {},
   "outputs": [
    {
     "data": {
      "text/plain": [
       "Frame (Sun-Earth system)\n",
       "------------------------\n",
       "    Earth        : Group\n",
       "    Sun          : Group\n",
       "  -----\n",
       "    Integrator   : \u001b[93mnot specified\u001b[0m\n",
       "    Writer       : \u001b[93mnot specified\u001b[0m"
      ]
     },
     "execution_count": 4,
     "metadata": {},
     "output_type": "execute_result"
    }
   ],
   "source": [
    "sim"
   ]
  },
  {
   "cell_type": "markdown",
   "metadata": {},
   "source": [
    "We will keep the problem general in three dimensions, but we will only use two of them for simplicity.\\\n",
    "Although spherical coordinates would be more suitable for the problem, we will use Carteesian coordinates here.\n",
    "\n",
    "We'll use the `astropy.constants` and `astropy.units` modules for the constants and units we need here."
   ]
  },
  {
   "cell_type": "code",
   "execution_count": 5,
   "metadata": {},
   "outputs": [],
   "source": [
    "import astropy.constants as c\n",
    "import astropy.units as u"
   ]
  },
  {
   "cell_type": "code",
   "execution_count": 6,
   "metadata": {},
   "outputs": [],
   "source": [
    "AU   = (1.*u.au).si.value\n",
    "day  = (1.*u.day).si.value\n",
    "G    = c.G.si.value\n",
    "year = (1.*u.year).si.value\n",
    "\n",
    "M_earth = c.M_earth.si.value\n",
    "M_sun   = c.M_sun.si.value"
   ]
  },
  {
   "cell_type": "code",
   "execution_count": 7,
   "metadata": {},
   "outputs": [],
   "source": [
    "sim.Earth.addfield(\"M\", M_earth, description=\"Mass [kg]\")"
   ]
  },
  {
   "cell_type": "markdown",
   "metadata": {},
   "source": [
    "The groups and the fields within can be easily accessed with"
   ]
  },
  {
   "cell_type": "code",
   "execution_count": 8,
   "metadata": {},
   "outputs": [
    {
     "data": {
      "text/plain": [
       "Group\n",
       "-----\n",
       "    M            : Field (Mass [kg])\n",
       "  -----"
      ]
     },
     "execution_count": 8,
     "metadata": {},
     "output_type": "execute_result"
    }
   ],
   "source": [
    "sim.Earth"
   ]
  },
  {
   "cell_type": "code",
   "execution_count": 9,
   "metadata": {},
   "outputs": [
    {
     "data": {
      "text/plain": [
       "5.972167867791379e+24"
      ]
     },
     "execution_count": 9,
     "metadata": {},
     "output_type": "execute_result"
    }
   ],
   "source": [
    "sim.Earth.M"
   ]
  },
  {
   "cell_type": "markdown",
   "metadata": {},
   "source": [
    "For this simulation the masses of Earth and Sun shall be constant. We can make them immutable to make sure that we do not accitentially change them."
   ]
  },
  {
   "cell_type": "code",
   "execution_count": 10,
   "metadata": {},
   "outputs": [],
   "source": [
    "sim.Earth.M.constant = True"
   ]
  },
  {
   "cell_type": "code",
   "execution_count": 11,
   "metadata": {},
   "outputs": [
    {
     "data": {
      "text/plain": [
       "Group\n",
       "-----\n",
       "    M            : Field (Mass [kg]), \u001b[95mconstant\u001b[0m\n",
       "  -----"
      ]
     },
     "execution_count": 11,
     "metadata": {},
     "output_type": "execute_result"
    }
   ],
   "source": [
    "sim.Earth"
   ]
  },
  {
   "cell_type": "markdown",
   "metadata": {},
   "source": [
    "Now we need to add fields for position and velocity. We initialize them with zeros and think later about initial conditions.\\\n",
    "The important thing is that the have the right shape upon initialization."
   ]
  },
  {
   "cell_type": "code",
   "execution_count": 12,
   "metadata": {},
   "outputs": [],
   "source": [
    "import numpy as np"
   ]
  },
  {
   "cell_type": "code",
   "execution_count": 13,
   "metadata": {},
   "outputs": [],
   "source": [
    "sim.Earth.addfield(\"r\", np.zeros(3), description=\"Position [m]\")\n",
    "sim.Earth.addfield(\"v\", np.zeros(3), description=\"Velocity [m/s]\")"
   ]
  },
  {
   "cell_type": "code",
   "execution_count": 14,
   "metadata": {},
   "outputs": [
    {
     "data": {
      "text/plain": [
       "Group\n",
       "-----\n",
       "    M            : Field (Mass [kg]), \u001b[95mconstant\u001b[0m\n",
       "    r            : Field (Position [m])\n",
       "    v            : Field (Velocity [m/s])\n",
       "  -----"
      ]
     },
     "execution_count": 14,
     "metadata": {},
     "output_type": "execute_result"
    }
   ],
   "source": [
    "sim.Earth"
   ]
  },
  {
   "cell_type": "markdown",
   "metadata": {},
   "source": [
    "Now we have to do the same for the Sun.\\\n",
    "We can set the mass to a constant value already when adding the field via a keyword argument."
   ]
  },
  {
   "cell_type": "code",
   "execution_count": 15,
   "metadata": {},
   "outputs": [],
   "source": [
    "sim.Sun.addfield(\"M\", c.M_sun.si.value, description=\"Mass [kg]\", constant=True)\n",
    "sim.Sun.addfield(\"r\", np.zeros(3), description=\"Position [m]\")\n",
    "sim.Sun.addfield(\"v\", np.zeros(3), description=\"Velocity [m/s]\")"
   ]
  },
  {
   "cell_type": "code",
   "execution_count": 16,
   "metadata": {},
   "outputs": [
    {
     "data": {
      "text/plain": [
       "Group\n",
       "-----\n",
       "    M            : Field (Mass [kg]), \u001b[95mconstant\u001b[0m\n",
       "    r            : Field (Position [m])\n",
       "    v            : Field (Velocity [m/s])\n",
       "  -----"
      ]
     },
     "execution_count": 16,
     "metadata": {},
     "output_type": "execute_result"
    }
   ],
   "source": [
    "sim.Sun"
   ]
  },
  {
   "cell_type": "markdown",
   "metadata": {},
   "source": [
    "It's possible to have all kinds of mathematical operations with the fields just as for regular NumPy ararys.\\\n",
    "For example: What is the ratio of Earth's mass to the Sun's?"
   ]
  },
  {
   "cell_type": "code",
   "execution_count": 17,
   "metadata": {},
   "outputs": [
    {
     "data": {
      "text/plain": [
       "3.0034893488507934e-06"
      ]
     },
     "execution_count": 17,
     "metadata": {},
     "output_type": "execute_result"
    }
   ],
   "source": [
    "sim.Earth.M / sim.Sun.M"
   ]
  },
  {
   "cell_type": "markdown",
   "metadata": {},
   "source": [
    "For our simulation we need an integration variable. In our case this is the time."
   ]
  },
  {
   "cell_type": "code",
   "execution_count": 18,
   "metadata": {},
   "outputs": [],
   "source": [
    "sim.addintegrationvariable(\"t\", 0., description=\"Time [s]\")"
   ]
  },
  {
   "cell_type": "markdown",
   "metadata": {},
   "source": [
    "We'll set the step size to a constant value of one day."
   ]
  },
  {
   "cell_type": "code",
   "execution_count": 19,
   "metadata": {},
   "outputs": [],
   "source": [
    "dt = 1.*day"
   ]
  },
  {
   "cell_type": "code",
   "execution_count": 20,
   "metadata": {},
   "outputs": [],
   "source": [
    "def f_dt(sim):\n",
    "    return dt"
   ]
  },
  {
   "cell_type": "code",
   "execution_count": 21,
   "metadata": {},
   "outputs": [],
   "source": [
    "sim.t.updater = f_dt"
   ]
  },
  {
   "cell_type": "markdown",
   "metadata": {},
   "source": [
    "We want to integrate for two years and want to have a snapshot every ten days."
   ]
  },
  {
   "cell_type": "code",
   "execution_count": 22,
   "metadata": {},
   "outputs": [],
   "source": [
    "snapwidth = 10.*day\n",
    "tmax = 2.*year"
   ]
  },
  {
   "cell_type": "code",
   "execution_count": 23,
   "metadata": {},
   "outputs": [],
   "source": [
    "sim.t.snapshots = np.arange(snapwidth, tmax+1, snapwidth)"
   ]
  },
  {
   "cell_type": "markdown",
   "metadata": {},
   "source": [
    "#### Note:\n",
    "`simframe` automatically writes an output file with the initial conditions, if the value of the integration variable is below first snapshot (if a writer is set).\\\n",
    "We add 1 second to the final snapshot to make sure that it gets written."
   ]
  },
  {
   "cell_type": "code",
   "execution_count": 24,
   "metadata": {},
   "outputs": [
    {
     "data": {
      "text/plain": [
       "Frame (Sun-Earth system)\n",
       "------------------------\n",
       "    Earth        : Group\n",
       "    Sun          : Group\n",
       "  -----\n",
       "    t            : Field (Time [s]), \u001b[95mIntegration variable\u001b[0m\n",
       "  -----\n",
       "    Integrator   : \u001b[93mnot specified\u001b[0m\n",
       "    Writer       : \u001b[93mnot specified\u001b[0m"
      ]
     },
     "execution_count": 24,
     "metadata": {},
     "output_type": "execute_result"
    }
   ],
   "source": [
    "sim"
   ]
  },
  {
   "cell_type": "markdown",
   "metadata": {},
   "source": [
    "As a writer we use the HDF5 writer."
   ]
  },
  {
   "cell_type": "code",
   "execution_count": 25,
   "metadata": {},
   "outputs": [],
   "source": [
    "from simframe import writers"
   ]
  },
  {
   "cell_type": "code",
   "execution_count": 26,
   "metadata": {},
   "outputs": [],
   "source": [
    "sim.writer = writers.hdf5writer"
   ]
  },
  {
   "cell_type": "code",
   "execution_count": 27,
   "metadata": {},
   "outputs": [],
   "source": [
    "sim.writer.datadir = \"2_data\"\n",
    "sim.writer.overwrite = True"
   ]
  },
  {
   "cell_type": "code",
   "execution_count": 28,
   "metadata": {},
   "outputs": [
    {
     "data": {
      "text/plain": [
       "Writer (HDF5 file format using h5py)\n",
       "------------------------------------\n",
       "    Data directory : 2_data\n",
       "    File names     : 2_data/data0000.hdf5\n",
       "    Overwrite      : \u001b[93mTrue\u001b[0m\n",
       "    options        : {'com': 'lzf', 'comopts': None}"
      ]
     },
     "execution_count": 28,
     "metadata": {},
     "output_type": "execute_result"
    }
   ],
   "source": [
    "sim.writer"
   ]
  },
  {
   "cell_type": "markdown",
   "metadata": {},
   "source": [
    "## Adding differential equations\n",
    "\n",
    "As a next step we'll add differential equations to the quantities. The differential equations for the positions are simple."
   ]
  },
  {
   "cell_type": "code",
   "execution_count": 29,
   "metadata": {},
   "outputs": [],
   "source": [
    "def dr_Earth(sim, r):\n",
    "    return sim.Earth.v\n",
    "\n",
    "def dr_Sun(sim, r):\n",
    "    return sim.Sun.v"
   ]
  },
  {
   "cell_type": "markdown",
   "metadata": {},
   "source": [
    "For the differential equations of the velocities we'll write a little helper function"
   ]
  },
  {
   "cell_type": "code",
   "execution_count": 30,
   "metadata": {},
   "outputs": [],
   "source": [
    "# Gravitational acceleration\n",
    "def ag(M, r, R):\n",
    "    direction = r-R\n",
    "    distance = np.linalg.norm(direction)\n",
    "    return -G * M * direction / distance**3"
   ]
  },
  {
   "cell_type": "code",
   "execution_count": 31,
   "metadata": {},
   "outputs": [],
   "source": [
    "def dv_Earth(sim, v):\n",
    "    return ag(sim.Sun.M, sim.Earth.r, sim.Sun.r)\n",
    "\n",
    "def dv_Sun(sim, v):\n",
    "    return ag(sim.Earth.M, sim.Sun.r, sim.Earth.r)"
   ]
  },
  {
   "cell_type": "markdown",
   "metadata": {},
   "source": [
    "Now we need to add the differential equations to their fields."
   ]
  },
  {
   "cell_type": "code",
   "execution_count": 32,
   "metadata": {},
   "outputs": [],
   "source": [
    "sim.Earth.v.differentiator = dv_Earth\n",
    "sim.Earth.r.differentiator = dr_Earth\n",
    "sim.Sun.v.differentiator   = dv_Sun\n",
    "sim.Sun.r.differentiator   = dr_Sun"
   ]
  },
  {
   "cell_type": "markdown",
   "metadata": {},
   "source": [
    "## Setting up the integrator\n",
    "\n",
    "Next we need to set up the integrator. We integrate all quantities with the explicit Euler 1st order scheme as in the previous tutorial."
   ]
  },
  {
   "cell_type": "code",
   "execution_count": 33,
   "metadata": {},
   "outputs": [],
   "source": [
    "from simframe import Integrator"
   ]
  },
  {
   "cell_type": "code",
   "execution_count": 34,
   "metadata": {},
   "outputs": [],
   "source": [
    "integrator_euler = Integrator(sim.t, description=\"Simple Euler integrator\")"
   ]
  },
  {
   "cell_type": "markdown",
   "metadata": {},
   "source": [
    "The instruction set for the integrator is quite simple."
   ]
  },
  {
   "cell_type": "code",
   "execution_count": 35,
   "metadata": {},
   "outputs": [],
   "source": [
    "from simframe import schemes\n",
    "from simframe.integration import Instruction"
   ]
  },
  {
   "cell_type": "code",
   "execution_count": 36,
   "metadata": {},
   "outputs": [],
   "source": [
    "instructions_euler = [Instruction(schemes.expl_1_euler, sim.Earth.r),\n",
    "                      Instruction(schemes.expl_1_euler, sim.Earth.v),\n",
    "                      Instruction(schemes.expl_1_euler, sim.Sun.r  ),\n",
    "                      Instruction(schemes.expl_1_euler, sim.Sun.v  ),\n",
    "                     ]"
   ]
  },
  {
   "cell_type": "code",
   "execution_count": 37,
   "metadata": {},
   "outputs": [],
   "source": [
    "integrator_euler.instructions = instructions_euler"
   ]
  },
  {
   "cell_type": "code",
   "execution_count": 38,
   "metadata": {},
   "outputs": [],
   "source": [
    "sim.integrator = integrator_euler"
   ]
  },
  {
   "cell_type": "markdown",
   "metadata": {},
   "source": [
    "## Initial conditions\n",
    "\n",
    "We're not quite ready to go. We still have to define the initial positions and velocities of Earth and Sun.\n",
    "\n",
    "We could simply set the Sun's position and velocity to zero and only set Earth's parameters. But then the center-of-mass would have a non-zero velocity in our reference frame and would slowly drift away from it's initial position.\n",
    "\n",
    "So what we do first: we set the Sun's positon to zero (i.e., don't do anything) and the Earth's position to a distance of 1 AU in positive x-direction. Then we'll offset their positions to center the system on the center of mass."
   ]
  },
  {
   "cell_type": "code",
   "execution_count": 39,
   "metadata": {},
   "outputs": [],
   "source": [
    "r_Earth_ini = np.array([AU, 0., 0.])\n",
    "r_Sun_ini = np.zeros(3)\n",
    "# Center of mass\n",
    "COM_ini = (M_earth*r_Earth_ini + M_sun*r_Sun_ini) / (M_earth+M_sun)\n",
    "# Offset both positions\n",
    "r_Earth_ini -= COM_ini\n",
    "r_Sun_ini -= COM_ini"
   ]
  },
  {
   "cell_type": "markdown",
   "metadata": {},
   "source": [
    "We save them in a separate variable instead of assigning them directly for later use."
   ]
  },
  {
   "cell_type": "markdown",
   "metadata": {},
   "source": [
    "The inital orbital velocities of the Earth shall be in positive y-direction, the velocity of the Sun in negative y-direction.\\\n",
    "For calculating the value use the reduced mass $mu$ of the system."
   ]
  },
  {
   "cell_type": "code",
   "execution_count": 40,
   "metadata": {},
   "outputs": [],
   "source": [
    "mu = M_earth*M_sun / (M_earth+M_sun)"
   ]
  },
  {
   "cell_type": "code",
   "execution_count": 41,
   "metadata": {},
   "outputs": [],
   "source": [
    "v_Earth_ini = np.array([0., np.sqrt(G*M_sun/M_earth*mu/AU), 0.])\n",
    "v_Sun_ini   = np.array([0., -np.sqrt(G*M_earth/M_sun*mu/AU), 0.])"
   ]
  },
  {
   "cell_type": "markdown",
   "metadata": {},
   "source": [
    "Now we assign them to their fields."
   ]
  },
  {
   "cell_type": "code",
   "execution_count": 42,
   "metadata": {},
   "outputs": [],
   "source": [
    "sim.Earth.r = r_Earth_ini\n",
    "sim.Earth.v = v_Earth_ini\n",
    "sim.Sun.r   = r_Sun_ini\n",
    "sim.Sun.v   = v_Sun_ini"
   ]
  },
  {
   "cell_type": "markdown",
   "metadata": {},
   "source": [
    "## Starting the simulation"
   ]
  },
  {
   "cell_type": "code",
   "execution_count": 43,
   "metadata": {},
   "outputs": [
    {
     "name": "stdout",
     "output_type": "stream",
     "text": [
      "Creating data directory '2_data'.\n",
      "Writing file \u001b[94m'2_data/data0000.hdf5'\u001b[0m\n",
      "Writing file \u001b[94m'2_data/data0001.hdf5'\u001b[0m\n",
      "Writing file \u001b[94m'2_data/data0002.hdf5'\u001b[0m\n",
      "Writing file \u001b[94m'2_data/data0003.hdf5'\u001b[0m\n",
      "Writing file \u001b[94m'2_data/data0004.hdf5'\u001b[0m\n",
      "Writing file \u001b[94m'2_data/data0005.hdf5'\u001b[0m\n",
      "Writing file \u001b[94m'2_data/data0006.hdf5'\u001b[0m\n",
      "Writing file \u001b[94m'2_data/data0007.hdf5'\u001b[0m\n",
      "Writing file \u001b[94m'2_data/data0008.hdf5'\u001b[0m\n",
      "Writing file \u001b[94m'2_data/data0009.hdf5'\u001b[0m\n",
      "Writing file \u001b[94m'2_data/data0010.hdf5'\u001b[0m\n",
      "Writing file \u001b[94m'2_data/data0011.hdf5'\u001b[0m\n",
      "Writing file \u001b[94m'2_data/data0012.hdf5'\u001b[0m\n",
      "Writing file \u001b[94m'2_data/data0013.hdf5'\u001b[0m\n",
      "Writing file \u001b[94m'2_data/data0014.hdf5'\u001b[0m\n",
      "Writing file \u001b[94m'2_data/data0015.hdf5'\u001b[0m\n",
      "Writing file \u001b[94m'2_data/data0016.hdf5'\u001b[0m\n",
      "Writing file \u001b[94m'2_data/data0017.hdf5'\u001b[0m\n",
      "Writing file \u001b[94m'2_data/data0018.hdf5'\u001b[0m\n",
      "Writing file \u001b[94m'2_data/data0019.hdf5'\u001b[0m\n",
      "Writing file \u001b[94m'2_data/data0020.hdf5'\u001b[0m\n",
      "Writing file \u001b[94m'2_data/data0021.hdf5'\u001b[0m\n",
      "Writing file \u001b[94m'2_data/data0022.hdf5'\u001b[0m\n",
      "Writing file \u001b[94m'2_data/data0023.hdf5'\u001b[0m\n",
      "Writing file \u001b[94m'2_data/data0024.hdf5'\u001b[0m\n",
      "Writing file \u001b[94m'2_data/data0025.hdf5'\u001b[0m\n",
      "Writing file \u001b[94m'2_data/data0026.hdf5'\u001b[0m\n",
      "Writing file \u001b[94m'2_data/data0027.hdf5'\u001b[0m\n",
      "Writing file \u001b[94m'2_data/data0028.hdf5'\u001b[0m\n",
      "Writing file \u001b[94m'2_data/data0029.hdf5'\u001b[0m\n",
      "Writing file \u001b[94m'2_data/data0030.hdf5'\u001b[0m\n",
      "Writing file \u001b[94m'2_data/data0031.hdf5'\u001b[0m\n",
      "Writing file \u001b[94m'2_data/data0032.hdf5'\u001b[0m\n",
      "Writing file \u001b[94m'2_data/data0033.hdf5'\u001b[0m\n",
      "Writing file \u001b[94m'2_data/data0034.hdf5'\u001b[0m\n",
      "Writing file \u001b[94m'2_data/data0035.hdf5'\u001b[0m\n",
      "Writing file \u001b[94m'2_data/data0036.hdf5'\u001b[0m\n",
      "Writing file \u001b[94m'2_data/data0037.hdf5'\u001b[0m\n",
      "Writing file \u001b[94m'2_data/data0038.hdf5'\u001b[0m\n",
      "Writing file \u001b[94m'2_data/data0039.hdf5'\u001b[0m\n",
      "Writing file \u001b[94m'2_data/data0040.hdf5'\u001b[0m\n",
      "Writing file \u001b[94m'2_data/data0041.hdf5'\u001b[0m\n",
      "Writing file \u001b[94m'2_data/data0042.hdf5'\u001b[0m\n",
      "Writing file \u001b[94m'2_data/data0043.hdf5'\u001b[0m\n",
      "Writing file \u001b[94m'2_data/data0044.hdf5'\u001b[0m\n",
      "Writing file \u001b[94m'2_data/data0045.hdf5'\u001b[0m\n",
      "Writing file \u001b[94m'2_data/data0046.hdf5'\u001b[0m\n",
      "Writing file \u001b[94m'2_data/data0047.hdf5'\u001b[0m\n",
      "Writing file \u001b[94m'2_data/data0048.hdf5'\u001b[0m\n",
      "Writing file \u001b[94m'2_data/data0049.hdf5'\u001b[0m\n",
      "Writing file \u001b[94m'2_data/data0050.hdf5'\u001b[0m\n",
      "Writing file \u001b[94m'2_data/data0051.hdf5'\u001b[0m\n",
      "Writing file \u001b[94m'2_data/data0052.hdf5'\u001b[0m\n",
      "Writing file \u001b[94m'2_data/data0053.hdf5'\u001b[0m\n",
      "Writing file \u001b[94m'2_data/data0054.hdf5'\u001b[0m\n",
      "Writing file \u001b[94m'2_data/data0055.hdf5'\u001b[0m\n",
      "Writing file \u001b[94m'2_data/data0056.hdf5'\u001b[0m\n",
      "Writing file \u001b[94m'2_data/data0057.hdf5'\u001b[0m\n",
      "Writing file \u001b[94m'2_data/data0058.hdf5'\u001b[0m\n",
      "Writing file \u001b[94m'2_data/data0059.hdf5'\u001b[0m\n",
      "Writing file \u001b[94m'2_data/data0060.hdf5'\u001b[0m\n",
      "Writing file \u001b[94m'2_data/data0061.hdf5'\u001b[0m\n",
      "Writing file \u001b[94m'2_data/data0062.hdf5'\u001b[0m\n",
      "Writing file \u001b[94m'2_data/data0063.hdf5'\u001b[0m\n",
      "Writing file \u001b[94m'2_data/data0064.hdf5'\u001b[0m\n",
      "Writing file \u001b[94m'2_data/data0065.hdf5'\u001b[0m\n",
      "Writing file \u001b[94m'2_data/data0066.hdf5'\u001b[0m\n",
      "Writing file \u001b[94m'2_data/data0067.hdf5'\u001b[0m\n",
      "Writing file \u001b[94m'2_data/data0068.hdf5'\u001b[0m\n",
      "Writing file \u001b[94m'2_data/data0069.hdf5'\u001b[0m\n",
      "Writing file \u001b[94m'2_data/data0070.hdf5'\u001b[0m\n",
      "Writing file \u001b[94m'2_data/data0071.hdf5'\u001b[0m\n",
      "Writing file \u001b[94m'2_data/data0072.hdf5'\u001b[0m\n",
      "Writing file \u001b[94m'2_data/data0073.hdf5'\u001b[0m\n"
     ]
    }
   ],
   "source": [
    "sim.run()"
   ]
  },
  {
   "cell_type": "markdown",
   "metadata": {},
   "source": [
    "## Reading and plotting data"
   ]
  },
  {
   "cell_type": "code",
   "execution_count": 44,
   "metadata": {},
   "outputs": [],
   "source": [
    "data_euler = sim.writer.read.all()"
   ]
  },
  {
   "cell_type": "code",
   "execution_count": 45,
   "metadata": {},
   "outputs": [],
   "source": [
    "import matplotlib.pyplot as plt\n",
    "width = 2.\n",
    "dpi = 300\n",
    "\n",
    "def plot_orbits(data):\n",
    "    fig, ax = plt.subplots(figsize=(width, width), dpi=dpi)\n",
    "    ax.set_aspect(1)\n",
    "    ax.axis(\"off\")\n",
    "    fig.set_facecolor(\"#000000\")\n",
    "    imax = data.t.shape[0]\n",
    "    for i in range(imax):\n",
    "        alpha = np.maximum(i/imax-0.2, 0.2)\n",
    "        ax.plot(data.Sun.r[i, 0], data.Sun.r[i, 1], \"o\", c=\"#FFFF00\", markersize=2, alpha=alpha)\n",
    "        ax.plot(data.Earth.r[i, 0], data.Earth.r[i, 1], \"o\", c=\"#0000FF\", markersize=0.5, alpha=alpha)\n",
    "    ax.plot(data.Sun.r[-1, 0], data.Sun.r[-1, 1], \"o\", c=\"#FFFF00\", markersize=8)\n",
    "    ax.plot(data.Earth.r[-1, 0], data.Earth.r[-1, 1], \"o\", c=\"#0000FF\", markersize=2)\n",
    "    ax.set_xlim(-1.5*AU, 1.5*AU)\n",
    "    ax.set_ylim(-1.5*AU, 1.5*AU)\n",
    "    fig.tight_layout()"
   ]
  },
  {
   "cell_type": "code",
   "execution_count": 46,
   "metadata": {},
   "outputs": [
    {
     "data": {
      "image/png": "[encoded data removed]",
      "text/plain": [
       "<Figure size 600x600 with 1 Axes>"
      ]
     },
     "metadata": {},
     "output_type": "display_data"
    }
   ],
   "source": [
    "plot_orbits(data_euler)"
   ]
  },
  {
   "cell_type": "markdown",
   "metadata": {},
   "source": [
    "## What went wrong?\n",
    "\n",
    "As you can see, the Earth is not on a circular orbit. Its orbital distance is increasing and because of that the Earth could not achieve two full cycles.\n",
    "\n",
    "The problem is the simple integration scheme used here.\\\n",
    "Every integration scheme has numerical error. Some have larger ones than others. Euler's 1st order method is simply not accurate enough for our problem.\n",
    "\n",
    "But there is a way out: [Symplectic integration](https://en.wikipedia.org/wiki/Symplectic_integrator)\\\n",
    "Symplectic integrators conserve the energy of the system.\n",
    "\n",
    "One of these methods is the Leapfrog method.\\\n",
    "Leapfrogging means the velocity and the position are not updated synchronous, but in between each other. They are leapfroggin each other.\n",
    "\n",
    "In our case we first update the velocities by using half of the step size.\\\n",
    "Usually the fields are only updated at the end of the instruction set, to make sure that the following instruction still has the old values available. But in our case the next instructions need the new velocities and not the old ones. There is an in-built instruction for updating fields that can be used here.\n",
    "\n",
    "Then we'll integrate and update the positions for a full time step using the updated velocities.\n",
    "\n",
    "And lastly, we'll integrate the velocities again for another half of the timestep with the new updated positions.\\\n",
    "We do not need the `update` instructions here, because they are automatically updated at the end of the instruction set.\n",
    "\n",
    "The instruction set now looks like this."
   ]
  },
  {
   "cell_type": "code",
   "execution_count": 47,
   "metadata": {},
   "outputs": [],
   "source": [
    "instructions_leapfrog = [Instruction(schemes.expl_1_euler, sim.Sun.v,   fstep=0.5),\n",
    "                         Instruction(schemes.expl_1_euler, sim.Earth.v, fstep=0.5),\n",
    "                         Instruction(schemes.update,       sim.Sun.v             ),\n",
    "                         Instruction(schemes.update,       sim.Earth.v           ),\n",
    "                         Instruction(schemes.expl_1_euler, sim.Sun.r,   fstep=1.0),\n",
    "                         Instruction(schemes.expl_1_euler, sim.Earth.r, fstep=1.0),\n",
    "                         Instruction(schemes.update,       sim.Sun.r             ),\n",
    "                         Instruction(schemes.update,       sim.Earth.r           ),\n",
    "                         Instruction(schemes.expl_1_euler, sim.Sun.v,   fstep=0.5),\n",
    "                         Instruction(schemes.expl_1_euler, sim.Earth.v, fstep=0.5),\n",
    "                        ]"
   ]
  },
  {
   "cell_type": "markdown",
   "metadata": {},
   "source": [
    "We can assign this new instruction set to our frame, and change the output directory, re-set the initial conditions, that we've saved before and re-run the simulation."
   ]
  },
  {
   "cell_type": "code",
   "execution_count": 48,
   "metadata": {},
   "outputs": [],
   "source": [
    "sim.integrator.instructions = instructions_leapfrog\n",
    "sim.writer.datadir = \"2_data_leapfrog\"\n",
    "sim.Earth.r = r_Earth_ini\n",
    "sim.Earth.v = v_Earth_ini\n",
    "sim.Sun.r   = r_Sun_ini\n",
    "sim.Sun.v   = v_Sun_ini\n",
    "sim.t       = 0."
   ]
  },
  {
   "cell_type": "code",
   "execution_count": 49,
   "metadata": {},
   "outputs": [
    {
     "name": "stdout",
     "output_type": "stream",
     "text": [
      "Creating data directory '2_data_leapfrog'.\n",
      "Writing file \u001b[94m'2_data_leapfrog/data0000.hdf5'\u001b[0m\n",
      "Writing file \u001b[94m'2_data_leapfrog/data0001.hdf5'\u001b[0m\n",
      "Writing file \u001b[94m'2_data_leapfrog/data0002.hdf5'\u001b[0m\n",
      "Writing file \u001b[94m'2_data_leapfrog/data0003.hdf5'\u001b[0m\n",
      "Writing file \u001b[94m'2_data_leapfrog/data0004.hdf5'\u001b[0m\n",
      "Writing file \u001b[94m'2_data_leapfrog/data0005.hdf5'\u001b[0m\n",
      "Writing file \u001b[94m'2_data_leapfrog/data0006.hdf5'\u001b[0m\n",
      "Writing file \u001b[94m'2_data_leapfrog/data0007.hdf5'\u001b[0m\n",
      "Writing file \u001b[94m'2_data_leapfrog/data0008.hdf5'\u001b[0m\n",
      "Writing file \u001b[94m'2_data_leapfrog/data0009.hdf5'\u001b[0m\n",
      "Writing file \u001b[94m'2_data_leapfrog/data0010.hdf5'\u001b[0m\n",
      "Writing file \u001b[94m'2_data_leapfrog/data0011.hdf5'\u001b[0m\n",
      "Writing file \u001b[94m'2_data_leapfrog/data0012.hdf5'\u001b[0m\n",
      "Writing file \u001b[94m'2_data_leapfrog/data0013.hdf5'\u001b[0m\n",
      "Writing file \u001b[94m'2_data_leapfrog/data0014.hdf5'\u001b[0m\n",
      "Writing file \u001b[94m'2_data_leapfrog/data0015.hdf5'\u001b[0m\n",
      "Writing file \u001b[94m'2_data_leapfrog/data0016.hdf5'\u001b[0m\n",
      "Writing file \u001b[94m'2_data_leapfrog/data0017.hdf5'\u001b[0m\n",
      "Writing file \u001b[94m'2_data_leapfrog/data0018.hdf5'\u001b[0m\n",
      "Writing file \u001b[94m'2_data_leapfrog/data0019.hdf5'\u001b[0m\n",
      "Writing file \u001b[94m'2_data_leapfrog/data0020.hdf5'\u001b[0m\n",
      "Writing file \u001b[94m'2_data_leapfrog/data0021.hdf5'\u001b[0m\n",
      "Writing file \u001b[94m'2_data_leapfrog/data0022.hdf5'\u001b[0m\n",
      "Writing file \u001b[94m'2_data_leapfrog/data0023.hdf5'\u001b[0m\n",
      "Writing file \u001b[94m'2_data_leapfrog/data0024.hdf5'\u001b[0m\n",
      "Writing file \u001b[94m'2_data_leapfrog/data0025.hdf5'\u001b[0m\n",
      "Writing file \u001b[94m'2_data_leapfrog/data0026.hdf5'\u001b[0m\n",
      "Writing file \u001b[94m'2_data_leapfrog/data0027.hdf5'\u001b[0m\n",
      "Writing file \u001b[94m'2_data_leapfrog/data0028.hdf5'\u001b[0m\n",
      "Writing file \u001b[94m'2_data_leapfrog/data0029.hdf5'\u001b[0m\n",
      "Writing file \u001b[94m'2_data_leapfrog/data0030.hdf5'\u001b[0m\n",
      "Writing file \u001b[94m'2_data_leapfrog/data0031.hdf5'\u001b[0m\n",
      "Writing file \u001b[94m'2_data_leapfrog/data0032.hdf5'\u001b[0m\n",
      "Writing file \u001b[94m'2_data_leapfrog/data0033.hdf5'\u001b[0m\n",
      "Writing file \u001b[94m'2_data_leapfrog/data0034.hdf5'\u001b[0m\n",
      "Writing file \u001b[94m'2_data_leapfrog/data0035.hdf5'\u001b[0m\n",
      "Writing file \u001b[94m'2_data_leapfrog/data0036.hdf5'\u001b[0m\n",
      "Writing file \u001b[94m'2_data_leapfrog/data0037.hdf5'\u001b[0m\n",
      "Writing file \u001b[94m'2_data_leapfrog/data0038.hdf5'\u001b[0m\n",
      "Writing file \u001b[94m'2_data_leapfrog/data0039.hdf5'\u001b[0m\n",
      "Writing file \u001b[94m'2_data_leapfrog/data0040.hdf5'\u001b[0m\n",
      "Writing file \u001b[94m'2_data_leapfrog/data0041.hdf5'\u001b[0m\n",
      "Writing file \u001b[94m'2_data_leapfrog/data0042.hdf5'\u001b[0m\n",
      "Writing file \u001b[94m'2_data_leapfrog/data0043.hdf5'\u001b[0m\n",
      "Writing file \u001b[94m'2_data_leapfrog/data0044.hdf5'\u001b[0m\n",
      "Writing file \u001b[94m'2_data_leapfrog/data0045.hdf5'\u001b[0m\n",
      "Writing file \u001b[94m'2_data_leapfrog/data0046.hdf5'\u001b[0m\n",
      "Writing file \u001b[94m'2_data_leapfrog/data0047.hdf5'\u001b[0m\n",
      "Writing file \u001b[94m'2_data_leapfrog/data0048.hdf5'\u001b[0m\n",
      "Writing file \u001b[94m'2_data_leapfrog/data0049.hdf5'\u001b[0m\n",
      "Writing file \u001b[94m'2_data_leapfrog/data0050.hdf5'\u001b[0m\n",
      "Writing file \u001b[94m'2_data_leapfrog/data0051.hdf5'\u001b[0m\n",
      "Writing file \u001b[94m'2_data_leapfrog/data0052.hdf5'\u001b[0m\n",
      "Writing file \u001b[94m'2_data_leapfrog/data0053.hdf5'\u001b[0m\n",
      "Writing file \u001b[94m'2_data_leapfrog/data0054.hdf5'\u001b[0m\n",
      "Writing file \u001b[94m'2_data_leapfrog/data0055.hdf5'\u001b[0m\n",
      "Writing file \u001b[94m'2_data_leapfrog/data0056.hdf5'\u001b[0m\n",
      "Writing file \u001b[94m'2_data_leapfrog/data0057.hdf5'\u001b[0m\n",
      "Writing file \u001b[94m'2_data_leapfrog/data0058.hdf5'\u001b[0m\n",
      "Writing file \u001b[94m'2_data_leapfrog/data0059.hdf5'\u001b[0m\n",
      "Writing file \u001b[94m'2_data_leapfrog/data0060.hdf5'\u001b[0m\n",
      "Writing file \u001b[94m'2_data_leapfrog/data0061.hdf5'\u001b[0m\n",
      "Writing file \u001b[94m'2_data_leapfrog/data0062.hdf5'\u001b[0m\n",
      "Writing file \u001b[94m'2_data_leapfrog/data0063.hdf5'\u001b[0m\n",
      "Writing file \u001b[94m'2_data_leapfrog/data0064.hdf5'\u001b[0m\n",
      "Writing file \u001b[94m'2_data_leapfrog/data0065.hdf5'\u001b[0m\n",
      "Writing file \u001b[94m'2_data_leapfrog/data0066.hdf5'\u001b[0m\n",
      "Writing file \u001b[94m'2_data_leapfrog/data0067.hdf5'\u001b[0m\n",
      "Writing file \u001b[94m'2_data_leapfrog/data0068.hdf5'\u001b[0m\n",
      "Writing file \u001b[94m'2_data_leapfrog/data0069.hdf5'\u001b[0m\n",
      "Writing file \u001b[94m'2_data_leapfrog/data0070.hdf5'\u001b[0m\n",
      "Writing file \u001b[94m'2_data_leapfrog/data0071.hdf5'\u001b[0m\n",
      "Writing file \u001b[94m'2_data_leapfrog/data0072.hdf5'\u001b[0m\n",
      "Writing file \u001b[94m'2_data_leapfrog/data0073.hdf5'\u001b[0m\n"
     ]
    }
   ],
   "source": [
    "sim.run()"
   ]
  },
  {
   "cell_type": "code",
   "execution_count": 50,
   "metadata": {},
   "outputs": [],
   "source": [
    "data_leapfrog = sim.writer.read.all()"
   ]
  },
  {
   "cell_type": "code",
   "execution_count": 51,
   "metadata": {},
   "outputs": [
    {
     "data": {
      "image/png": "[encoded data removed]",
      "text/plain": [
       "<Figure size 600x600 with 1 Axes>"
      ]
     },
     "metadata": {},
     "output_type": "display_data"
    }
   ],
   "source": [
    "plot_orbits(data_leapfrog)"
   ]
  }
 ],
 "metadata": {
  "kernelspec": {
   "display_name": "Python 3",
   "language": "python",
   "name": "python3"
  },
  "language_info": {
   "codemirror_mode": {
    "name": "ipython",
    "version": 3
   },
   "file_extension": ".py",
   "mimetype": "text/x-python",
   "name": "python",
   "nbconvert_exporter": "python",
   "pygments_lexer": "ipython3",
   "version": "3.8.3"
  }
 },
 "nbformat": 4,
 "nbformat_minor": 4
}
