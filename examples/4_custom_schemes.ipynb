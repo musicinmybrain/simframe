{
 "cells": [
  {
   "cell_type": "markdown",
   "metadata": {},
   "source": [
    "In this tutorial you'll learn to create your own integration schemes."
   ]
  },
  {
   "cell_type": "markdown",
   "metadata": {},
   "source": [
    "# Custom Schemes\n",
    "\n",
    "In this tutorial we want to estimate $\\pi$ with the following equation:\n",
    "\n",
    "$\\pi = 4 \\int_0^1 \\sqrt{1-t^2}\\mathrm{d}t$"
   ]
  },
  {
   "cell_type": "code",
   "execution_count": 1,
   "metadata": {},
   "outputs": [],
   "source": [
    "from simframe import Frame"
   ]
  },
  {
   "cell_type": "code",
   "execution_count": 2,
   "metadata": {},
   "outputs": [],
   "source": [
    "sim = Frame()"
   ]
  },
  {
   "cell_type": "code",
   "execution_count": 3,
   "metadata": {},
   "outputs": [],
   "source": [
    "sim.addfield(\"pi\", 0., description=\"Approximation of pi\")\n",
    "sim.addintegrationvariable(\"t\", 0.)"
   ]
  },
  {
   "cell_type": "code",
   "execution_count": 4,
   "metadata": {},
   "outputs": [],
   "source": [
    "import numpy as np\n",
    "\n",
    "def f(sim, x, Y):\n",
    "    return 4.*np.sqrt(1-x**2)"
   ]
  },
  {
   "cell_type": "code",
   "execution_count": 5,
   "metadata": {},
   "outputs": [],
   "source": [
    "sim.pi.differentiator = f"
   ]
  },
  {
   "cell_type": "markdown",
   "metadata": {},
   "source": [
    "We set the step size to 0.25, i.e., the integral function is only evaluated four times."
   ]
  },
  {
   "cell_type": "code",
   "execution_count": 6,
   "metadata": {},
   "outputs": [],
   "source": [
    "def dt(sim):\n",
    "    return 0.25"
   ]
  },
  {
   "cell_type": "code",
   "execution_count": 7,
   "metadata": {},
   "outputs": [],
   "source": [
    "sim.t.updater = dt"
   ]
  },
  {
   "cell_type": "markdown",
   "metadata": {},
   "source": [
    "We do not need to write outputs for this model. We only have to tell the integrator when to stop the simulation, i.e., the upper bound of the integral."
   ]
  },
  {
   "cell_type": "code",
   "execution_count": 8,
   "metadata": {},
   "outputs": [],
   "source": [
    "sim.t.snapshots = [1.]"
   ]
  },
  {
   "cell_type": "code",
   "execution_count": 9,
   "metadata": {},
   "outputs": [],
   "source": [
    "from simframe import Integrator"
   ]
  },
  {
   "cell_type": "code",
   "execution_count": 10,
   "metadata": {},
   "outputs": [],
   "source": [
    "sim.integrator = Integrator(sim.t)"
   ]
  },
  {
   "cell_type": "code",
   "execution_count": 11,
   "metadata": {},
   "outputs": [],
   "source": [
    "from simframe import Instruction"
   ]
  },
  {
   "cell_type": "code",
   "execution_count": 12,
   "metadata": {},
   "outputs": [],
   "source": [
    "from simframe import schemes"
   ]
  },
  {
   "cell_type": "code",
   "execution_count": 13,
   "metadata": {},
   "outputs": [],
   "source": [
    "sim.integrator.instructions = [Instruction(schemes.expl_1_euler, sim.pi)]"
   ]
  },
  {
   "cell_type": "code",
   "execution_count": 14,
   "metadata": {},
   "outputs": [],
   "source": [
    "sim.run()"
   ]
  },
  {
   "cell_type": "markdown",
   "metadata": {},
   "source": [
    "Printing the results"
   ]
  },
  {
   "cell_type": "code",
   "execution_count": 15,
   "metadata": {},
   "outputs": [],
   "source": [
    "from IPython.display import Markdown as md\n",
    "def print_table(sim):\n",
    "    return md(\"| |$\\pi$|rel. error|\\n|-|-|-|\\n|real|{:10.8f}||\\n|approx.|{:10.8f}|{:9.3e}|\".format(np.pi,sim.pi,np.abs(np.pi-sim.pi)/np.pi))"
   ]
  },
  {
   "cell_type": "code",
   "execution_count": 16,
   "metadata": {},
   "outputs": [
    {
     "data": {
      "text/markdown": [
       "| |$\\pi$|rel. error|\n",
       "|-|-|-|\n",
       "|real|3.14159265||\n",
       "|approx.|3.49570907|1.127e-01|"
      ],
      "text/plain": [
       "<IPython.core.display.Markdown object>"
      ]
     },
     "execution_count": 16,
     "metadata": {},
     "output_type": "execute_result"
    }
   ],
   "source": [
    "print_table(sim)"
   ]
  },
  {
   "cell_type": "markdown",
   "metadata": {},
   "source": [
    "The relative error is about 11 %. How can we improve it?\n",
    "\n",
    "One way is to decrease the step size. You can re-run the notebook with a smaller step size and compare the results.\n",
    "\n",
    "Another possibility is to use higher order integration schemes. We are now going to implement the 2nd-order [Midpoint Method](https://en.wikipedia.org/wiki/Midpoint_method) and the 4th-order [Runge-Kutta method](https://en.wikipedia.org/wiki/Runge%E2%80%93Kutta_methods).\n",
    "\n",
    "All we have to do is write a function that takes the current value of the integration variable **x0**, the current value of the variable to be integrated **Y0**, and the step size **dx**. The function needs to return the change in the variable to be integrated **dY**.\n",
    "\n",
    "For the midpoint method this looks like this:"
   ]
  },
  {
   "cell_type": "code",
   "execution_count": 18,
   "metadata": {},
   "outputs": [],
   "source": [
    "def midpoint(x0, Y0, dx, *args, **kwargs):\n",
    "    x1 = x0 + 0.5*dx\n",
    "    Y1 = Y0 + 0.5*dx*Y0.derivative(x0, Y0)\n",
    "    return dx*Y0.derivative(x1, Y1)"
   ]
  },
  {
   "cell_type": "markdown",
   "metadata": {},
   "source": [
    "We now have to create an integration scheme from this function. This can be done by using `AbstractScheme` provided by `simframe`."
   ]
  },
  {
   "cell_type": "code",
   "execution_count": 19,
   "metadata": {},
   "outputs": [],
   "source": [
    "from simframe.integration import AbstractScheme"
   ]
  },
  {
   "cell_type": "code",
   "execution_count": 20,
   "metadata": {},
   "outputs": [],
   "source": [
    "expl_2_midpoint = AbstractScheme(midpoint)"
   ]
  },
  {
   "cell_type": "markdown",
   "metadata": {},
   "source": [
    "`expl_2_midpoint` is now our new integration scheme. The naming convention is `<expl/impl>_<order>_<name><_other>`.\n",
    "\n",
    "We can now set a new instruction set using our new method to the integrator."
   ]
  },
  {
   "cell_type": "code",
   "execution_count": 21,
   "metadata": {},
   "outputs": [],
   "source": [
    "sim.integrator.instructions = [Instruction(expl_2_midpoint, sim.pi)]"
   ]
  },
  {
   "cell_type": "markdown",
   "metadata": {},
   "source": [
    "To re-run the simulation we have to reset to the initial conditions."
   ]
  },
  {
   "cell_type": "code",
   "execution_count": 22,
   "metadata": {},
   "outputs": [],
   "source": [
    "sim.t = 0\n",
    "sim.pi = 0"
   ]
  },
  {
   "cell_type": "code",
   "execution_count": 23,
   "metadata": {},
   "outputs": [],
   "source": [
    "sim.run()"
   ]
  },
  {
   "cell_type": "code",
   "execution_count": 24,
   "metadata": {},
   "outputs": [
    {
     "data": {
      "text/markdown": [
       "| |$\\pi$|rel. error|\n",
       "|-|-|-|\n",
       "|real|3.14159265||\n",
       "|approx.|3.18392922|1.348e-02|"
      ],
      "text/plain": [
       "<IPython.core.display.Markdown object>"
      ]
     },
     "execution_count": 24,
     "metadata": {},
     "output_type": "execute_result"
    }
   ],
   "source": [
    "print_table(sim)"
   ]
  },
  {
   "cell_type": "markdown",
   "metadata": {},
   "source": [
    "The error is now reduced to 1.3 % only by using a higher order method.\n",
    "\n",
    "Note: the higher order method needs more operations and is therefore slower. This does not really matter in this case, but might be important for more complex simulations.\n",
    "\n",
    "The scheme function for the 4th-order explicit Runge-Kutta method looks as follows:"
   ]
  },
  {
   "cell_type": "code",
   "execution_count": 25,
   "metadata": {},
   "outputs": [],
   "source": [
    "def rk4(x0, Y0, dx, *args, **kwargs):\n",
    "    k1 = Y0.derivative(x0         , Y0            )\n",
    "    k2 = Y0.derivative(x0 + 0.5*dx, Y0 + 0.5*dx*k1)\n",
    "    k3 = Y0.derivative(x0 + 0.5*dx, Y0 + 0.5*dx*k2)\n",
    "    k4 = Y0.derivative(x0 +     dx, Y0 +     dx*k3)\n",
    "    return dx*(1/6*k1 + 1/3*k2 + 1/3*k3 + 1/6*k4)"
   ]
  },
  {
   "cell_type": "markdown",
   "metadata": {},
   "source": [
    "The rest is as above."
   ]
  },
  {
   "cell_type": "code",
   "execution_count": 26,
   "metadata": {},
   "outputs": [],
   "source": [
    "expl_4_rungekutta = AbstractScheme(rk4)"
   ]
  },
  {
   "cell_type": "code",
   "execution_count": 27,
   "metadata": {},
   "outputs": [],
   "source": [
    "sim.integrator.instructions = [Instruction(rk4, sim.pi)]"
   ]
  },
  {
   "cell_type": "code",
   "execution_count": 28,
   "metadata": {},
   "outputs": [],
   "source": [
    "sim.t = 0\n",
    "sim.pi = 0"
   ]
  },
  {
   "cell_type": "code",
   "execution_count": 29,
   "metadata": {},
   "outputs": [],
   "source": [
    "sim.run()"
   ]
  },
  {
   "cell_type": "code",
   "execution_count": 30,
   "metadata": {},
   "outputs": [
    {
     "data": {
      "text/markdown": [
       "| |$\\pi$|rel. error|\n",
       "|-|-|-|\n",
       "|real|3.14159265||\n",
       "|approx.|3.12118917|6.495e-03|"
      ],
      "text/plain": [
       "<IPython.core.display.Markdown object>"
      ]
     },
     "execution_count": 30,
     "metadata": {},
     "output_type": "execute_result"
    }
   ],
   "source": [
    "print_table(sim)"
   ]
  },
  {
   "cell_type": "markdown",
   "metadata": {},
   "source": [
    "With this method the error is reduced down to 0.6 %."
   ]
  },
  {
   "cell_type": "markdown",
   "metadata": {},
   "source": [
    "But before you take effort into developing your own integration schemes, take a look at the schemes already provided by `simframe`:"
   ]
  },
  {
   "cell_type": "code",
   "execution_count": 31,
   "metadata": {},
   "outputs": [
    {
     "data": {
      "text/markdown": [
       "### Available integration schemes in `simframe.schemes`:\n",
       "|Scheme|Description|\n",
       "|------|-----------|\n",
       "|expl_1_euler|Explicit 1st-order Euler method|\n",
       "|expl_2_heun|Explicit 2nd-order Heun's method|\n",
       "|expl_2_heun_euler_adptv|Explicit adaptive 2nd-order Heun-Euler method|\n",
       "|expl_2_midpoint|Explicit 2nd-order midpoint method|\n",
       "|expl_3_heun|Explicit 3rd-order Heun's method|\n",
       "|expl_4_rungekutta|Explicit 4th-order Runge-Kutta method|\n"
      ],
      "text/plain": [
       "<IPython.core.display.Markdown object>"
      ]
     },
     "execution_count": 31,
     "metadata": {},
     "output_type": "execute_result"
    }
   ],
   "source": [
    "_ = \"### Available integration schemes in `simframe.schemes`:\\n\"\n",
    "_ += \"|Scheme|Description|\\n\"\n",
    "_ += \"|------|-----------|\\n\"\n",
    "for s in schemes.__dir__():\n",
    "    if s == \"update\": continue\n",
    "    if not s.startswith(\"_\"): _ += \"|\"+s+\"|\"+schemes.__dict__[s].description+\"|\\n\"\n",
    "md(_)"
   ]
  }
 ],
 "metadata": {
  "kernelspec": {
   "display_name": "Python 3",
   "language": "python",
   "name": "python3"
  },
  "language_info": {
   "codemirror_mode": {
    "name": "ipython",
    "version": 3
   },
   "file_extension": ".py",
   "mimetype": "text/x-python",
   "name": "python",
   "nbconvert_exporter": "python",
   "pygments_lexer": "ipython3",
   "version": "3.8.3"
  }
 },
 "nbformat": 4,
 "nbformat_minor": 4
}
