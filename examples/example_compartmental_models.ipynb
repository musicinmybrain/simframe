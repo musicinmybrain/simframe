{
 "cells": [
  {
   "cell_type": "markdown",
   "id": "4c030aff-0ea0-4a60-beaa-541bbf210236",
   "metadata": {},
   "source": [
    "[![Binder](https://mybinder.org/badge_logo.svg)](https://mybinder.org/v2/gh/stammler/simframe/HEAD?labpath=examples%2Fexample_compartmental_models.ipynb)"
   ]
  },
  {
   "cell_type": "markdown",
   "id": "e3e960fb-c87a-417e-a044-b0cf71b25e85",
   "metadata": {},
   "source": [
    "# Example: Compartmental Models"
   ]
  },
  {
   "cell_type": "markdown",
   "id": "2f3ed088-6dae-4f44-a74a-7cd3e428bdce",
   "metadata": {},
   "source": [
    "In this notebook we are going to investigate [compartmental models](https://en.wikipedia.org/wiki/Compartmental_models_in_epidemiology) for infectious diseases.  \n",
    "In these models the entire population is divided into different compartments whose evolution is simulated over time.\n",
    "\n",
    "In the first example we are going to create a simple compartmental model of a fictional disease and investigate how the compartments developed with time-dependent parameters.  \n",
    "In the second example we are going to run a more complex model of the SARS-CoV-2 outbreak."
   ]
  },
  {
   "cell_type": "markdown",
   "id": "d985b151-cc1f-4928-9350-5eec0e106102",
   "metadata": {},
   "source": [
    "## SIRD Model"
   ]
  },
  {
   "cell_type": "markdown",
   "id": "65e74688-1d3e-406d-a8f0-0659f4eb5c95",
   "metadata": {},
   "source": [
    "One of the simplest models is for example the SIRD model, which consists of four compartments: $S$usceptible, $I$nfectious, $R$ecovered, and $D$eceased. The four compartments are governed by the differential equations\n",
    "\n",
    "$\\frac{\\mathrm{d}}{\\mathrm{d}t} S = -\\alpha R_1 \\frac{SI}{N}$\n",
    "\n",
    "$\\frac{\\mathrm{d}}{\\mathrm{d}t} I = \\alpha R_1 \\frac{SI}{N} - (1-\\beta) R_2 I - \\beta R_3 I$\n",
    "\n",
    "$\\frac{\\mathrm{d}}{\\mathrm{d}t} R = \\left(1-\\beta\\right) R_2 I$\n",
    "\n",
    "$\\frac{\\mathrm{d}}{\\mathrm{d}t} D = \\beta R_3 I$\n",
    "\n",
    "where $R_1$ is the average rate of contacts per person per time, $\\alpha$ the probability of disease transmission per contact, $\\beta$ the mortality, $R_2$ the average recovery time, and $R_3$ the average time until death. $N = S + I + R + D$ is the total size of the population."
   ]
  },
  {
   "cell_type": "markdown",
   "id": "e0f40a6d-31f2-4c24-92c2-b15f2918825f",
   "metadata": {},
   "source": [
    "There are a few key parameters to describe the system. The basic reproduction number $R_0$ is the expected number of new infections if there is one infected person with the entire population susceptible. In our model this would be.\n",
    "\n",
    "$R_0 = \\frac{\\alpha R_1}{\\beta R_2 + \\left(1-\\beta\\right)R_3}$\n",
    "\n",
    "In general, the time-dependent reproduction number is the ratio of influx into the infectious comparments to the outflux from those compartments. In our model this is\n",
    "\n",
    "$R_t = R_0\\frac{S}{N}$"
   ]
  },
  {
   "cell_type": "markdown",
   "id": "b0dbd6dc-2f6b-47fa-9534-d59e1d28a30d",
   "metadata": {},
   "source": [
    "To set up the model, we need to define the free parameters. We are going to assume that the population has a size of $10$ million people. On average these people have $5$ contacts per day. The transmission probability per contact of our fictitious disease it $5\\,\\%$. Of all infected $97\\,\\%$ will recover within $14$ days, while $3\\,\\%$ will die within $14$ days after infection. Initially we have one infected person: patient zero.\n",
    "\n",
    "The base time unit of the model will be days."
   ]
  },
  {
   "cell_type": "code",
   "execution_count": 1,
   "id": "8ce20436-7e74-463a-afdc-3b7362199d8e",
   "metadata": {},
   "outputs": [],
   "source": [
    "N     = 10_000_000.  # Total population size\n",
    "alpha = 0.05         # Transmission probability\n",
    "beta  = 0.03         # Mortality\n",
    "R1    = 5.           # Contacts per day\n",
    "R2    = 1./14.       # Inverse recovery time\n",
    "R3    = 1./14.       # Inverse time until death\n",
    "\n",
    "I0    = 1.           # Initial infectious population"
   ]
  },
  {
   "cell_type": "markdown",
   "id": "23271265-3d21-4513-bd16-aec8e7b3ec12",
   "metadata": {},
   "source": [
    "We set up the simulation frame and create a field for our state vector $\\vec{Y}$ and initialize it with the initial conditions. The task of the simulation frame is to simulate the evolution of said state vector.\n",
    "\n",
    "$\\vec{Y} = \\begin{pmatrix} S \\\\ I \\\\ R \\\\ D \\end{pmatrix}$"
   ]
  },
  {
   "cell_type": "code",
   "execution_count": 2,
   "id": "3cf3e20b-0661-4f0d-883b-60287a7aeefd",
   "metadata": {},
   "outputs": [],
   "source": [
    "Y0 = [\n",
    "    N-I0,  # Susceptible\n",
    "    I0,    # Infectious\n",
    "    0.,    # Recovered\n",
    "    0.     # Deceased\n",
    "]"
   ]
  },
  {
   "cell_type": "code",
   "execution_count": 3,
   "id": "87282dff-132a-4492-a7f7-77a8438bdd57",
   "metadata": {},
   "outputs": [],
   "source": [
    "from simframe import Frame"
   ]
  },
  {
   "cell_type": "code",
   "execution_count": 4,
   "id": "21e0d763-b8a3-4ca7-add4-42d6419a0414",
   "metadata": {},
   "outputs": [],
   "source": [
    "sim = Frame(description=\"SIRD Model\")"
   ]
  },
  {
   "cell_type": "code",
   "execution_count": 5,
   "id": "6ab69f40-c8f4-448a-b6c6-8042a94f2a4c",
   "metadata": {},
   "outputs": [],
   "source": [
    "sim.addfield(\"Y\", Y0, description=\"State Vector\")"
   ]
  },
  {
   "cell_type": "markdown",
   "id": "e7e24284-3d0c-46c3-875f-2e242cb51044",
   "metadata": {},
   "source": [
    "We create a group in which we store the model parameters."
   ]
  },
  {
   "cell_type": "code",
   "execution_count": 6,
   "id": "7edf30f8-c05c-453e-aa23-6695d47bcbd5",
   "metadata": {},
   "outputs": [],
   "source": [
    "sim.addgroup(\"pars\", description=\"Model Parameters\")\n",
    "sim.pars.addfield(\"alpha\", alpha, description=\"Transmission probability\")\n",
    "sim.pars.addfield(\"beta\", beta, description=\"Recovery probability\")\n",
    "sim.pars.addfield(\"R1\", R1, description=\"Contact rate\")\n",
    "sim.pars.addfield(\"R2\", R2, description=\"Inverse recovery time\")\n",
    "sim.pars.addfield(\"R3\", R3, description=\"Inverse time until death\")\n",
    "sim.pars.addfield(\"N\", N, description=\"Total population size\")"
   ]
  },
  {
   "cell_type": "markdown",
   "id": "e821fb20-6a52-4eed-9c91-256034f90811",
   "metadata": {},
   "source": [
    "Additionally, we add fields for the basic reproduction number and for the reproduction number for later analysis."
   ]
  },
  {
   "cell_type": "code",
   "execution_count": 7,
   "id": "d8b3f6e8-f5cd-4b91-965b-e50baa4dfedf",
   "metadata": {},
   "outputs": [],
   "source": [
    "sim.pars.addfield(\"Rt\", 0., description=\"Time-dependent reproduction number\")\n",
    "sim.pars.addfield(\"R0\", 0., description=\"Basic reproduction number\")"
   ]
  },
  {
   "cell_type": "markdown",
   "id": "f795d889-89b2-4522-8dc3-225043148ce7",
   "metadata": {},
   "source": [
    "We then define and add updaters to the reproduction numbers that calculate the numbers from the current state of the simulation frame. The compartments group, that is used in the updater of the time-dependent reproduction number, will be defined later."
   ]
  },
  {
   "cell_type": "code",
   "execution_count": 8,
   "id": "56a63a7b-4684-40a8-b0a4-fb9f2de8956f",
   "metadata": {},
   "outputs": [],
   "source": [
    "def f_R0(sim):\n",
    "    alpha, beta = sim.pars.alpha, sim.pars.beta\n",
    "    R1, R2, R3 = sim.pars.R1, sim.pars.R2, sim.pars.R3\n",
    "    return alpha*R1/(beta*R2+(1-beta)*R3)"
   ]
  },
  {
   "cell_type": "code",
   "execution_count": 9,
   "id": "5c3fbdca-99a0-4b12-a509-364a2932cac6",
   "metadata": {},
   "outputs": [],
   "source": [
    "def f_Rt(sim):\n",
    "    return sim.pars.R0*sim.comp.S/sim.pars.N"
   ]
  },
  {
   "cell_type": "code",
   "execution_count": 10,
   "id": "2fefe680-262a-4a0a-9928-74196364a5f2",
   "metadata": {},
   "outputs": [],
   "source": [
    "sim.pars.R0.updater = f_R0\n",
    "sim.pars.Rt.updater = f_Rt"
   ]
  },
  {
   "cell_type": "markdown",
   "id": "bda04a44-4391-4903-b69a-9258101321c7",
   "metadata": {},
   "source": [
    "Additionally we add an updater for the total population size, which is simply the sum of the state vector. In our model the population size will be constant, size we are not considering births."
   ]
  },
  {
   "cell_type": "code",
   "execution_count": 11,
   "id": "42a5d3cf-51d5-4fee-a199-d420b8ac04b7",
   "metadata": {},
   "outputs": [],
   "source": [
    "def f_N(sim):\n",
    "    return sim.Y.sum()"
   ]
  },
  {
   "cell_type": "code",
   "execution_count": 12,
   "id": "d8394a75-43ae-48a5-8a5e-a0dbdb033d6c",
   "metadata": {},
   "outputs": [],
   "source": [
    "sim.pars.N.updater = f_N"
   ]
  },
  {
   "cell_type": "markdown",
   "id": "16f2366f-9189-49ab-b105-dc871f633ca3",
   "metadata": {},
   "source": [
    "Now we tell the simulation frame that it has to update the reproduction numbers and the population size in the parameters group."
   ]
  },
  {
   "cell_type": "code",
   "execution_count": 13,
   "id": "8f96e31b-b1b0-4e15-9266-1650e256ba7c",
   "metadata": {},
   "outputs": [],
   "source": [
    "sim.pars.updater = [\"R0\", \"Rt\", \"N\"]"
   ]
  },
  {
   "cell_type": "markdown",
   "id": "3cc3ca77-b65b-4a9f-99b3-63ab0875e29f",
   "metadata": {},
   "source": [
    "For convenience we create a group for the compartments and simply copy the elements of the state vector into them in the systole of the compartment updater."
   ]
  },
  {
   "cell_type": "code",
   "execution_count": 14,
   "id": "85b046bd-1816-4616-833f-871fa73c6802",
   "metadata": {},
   "outputs": [],
   "source": [
    "sim.addgroup(\"comp\", description=\"Model Compartments\")\n",
    "sim.comp.addfield(\"S\", sim.Y[0], description=\"Susceptible\")\n",
    "sim.comp.addfield(\"I\", sim.Y[1], description=\"Infectious\")\n",
    "sim.comp.addfield(\"R\", sim.Y[2], description=\"Recovered\")\n",
    "sim.comp.addfield(\"D\", sim.Y[3], description=\"Deceased\")"
   ]
  },
  {
   "cell_type": "code",
   "execution_count": 15,
   "id": "33a5f9d0-7a9c-4c79-ae75-4300b057262c",
   "metadata": {},
   "outputs": [],
   "source": [
    "def f_comp_systole(sim):\n",
    "    sim.comp.S[:] = sim.Y[0]\n",
    "    sim.comp.I[:] = sim.Y[1]\n",
    "    sim.comp.R[:] = sim.Y[2]\n",
    "    sim.comp.D[:] = sim.Y[3]"
   ]
  },
  {
   "cell_type": "code",
   "execution_count": 16,
   "id": "318ee695-e851-4e5d-acec-c6f03f231664",
   "metadata": {},
   "outputs": [],
   "source": [
    "sim.comp.updater.systole = f_comp_systole"
   ]
  },
  {
   "cell_type": "markdown",
   "id": "844808ab-6370-45a1-8aa1-9c8243998e4c",
   "metadata": {},
   "source": [
    "Finally, we have to tell the main simulation frame to update the compartments and parameters groups."
   ]
  },
  {
   "cell_type": "code",
   "execution_count": 17,
   "id": "21379176-0c26-45c7-b43b-d072afcf2316",
   "metadata": {},
   "outputs": [],
   "source": [
    "sim.updater = [\"comp\", \"pars\"]"
   ]
  },
  {
   "cell_type": "markdown",
   "id": "8320925c-eb72-4d46-a6e2-d8db41c0dbf3",
   "metadata": {},
   "source": [
    "Now we have to write a function that returns the derivative of our state vector."
   ]
  },
  {
   "cell_type": "code",
   "execution_count": 18,
   "id": "06f73965-4c49-4554-aea7-1df87af86c21",
   "metadata": {},
   "outputs": [],
   "source": [
    "def f_dYdt(sim, x, Y):\n",
    "    \n",
    "    S, I, R, D = Y\n",
    "    alpha, beta, R1, R2, R3, N = sim.pars.alpha, sim.pars.beta, sim.pars.R1, sim.pars.R2, sim.pars.R3, sim.pars.N\n",
    "    \n",
    "    dY = np.empty_like(sim.Y)\n",
    "    \n",
    "    dY[0] = -alpha*R1*S*I/N\n",
    "    dY[2] = (1.-beta)*R2*I\n",
    "    dY[3] = beta*R3*I\n",
    "    dY[1] = -(dY[0]+dY[2]+dY[3])\n",
    "    \n",
    "    return dY"
   ]
  },
  {
   "cell_type": "markdown",
   "id": "4b373be5-a56c-4f9c-b7a5-aa9324e01b40",
   "metadata": {},
   "source": [
    "And assign it to the differentiator of the field."
   ]
  },
  {
   "cell_type": "code",
   "execution_count": 19,
   "id": "446f0a99-bf5c-4eb9-992a-76c6c3920f3a",
   "metadata": {},
   "outputs": [],
   "source": [
    "sim.Y.differentiator = f_dYdt"
   ]
  },
  {
   "cell_type": "markdown",
   "id": "5732e792-0114-4056-b776-00b1bca036e4",
   "metadata": {},
   "source": [
    "In the next step we have to set up the integration variable."
   ]
  },
  {
   "cell_type": "code",
   "execution_count": 20,
   "id": "223886a5-f54c-48ff-9fa0-d843762e4e19",
   "metadata": {},
   "outputs": [],
   "source": [
    "sim.addintegrationvariable(\"t\", 0., description=\"Time [days]\")"
   ]
  },
  {
   "cell_type": "markdown",
   "id": "4e0e090e-10e9-4394-a664-fde6bb37bad1",
   "metadata": {},
   "source": [
    "We want to run the simulation for $1$ year and have an output every day."
   ]
  },
  {
   "cell_type": "code",
   "execution_count": 21,
   "id": "21995e1a-37b2-4996-befe-3608cbc17bd5",
   "metadata": {},
   "outputs": [],
   "source": [
    "import numpy as np"
   ]
  },
  {
   "cell_type": "code",
   "execution_count": 22,
   "id": "12b75e14-8c6e-4e21-8f08-e2aa35390766",
   "metadata": {},
   "outputs": [],
   "source": [
    "sim.t.snapshots = np.arange(1., 366., 1.)"
   ]
  },
  {
   "cell_type": "markdown",
   "id": "c00fab40-e1dd-493c-82e0-5fba7709e247",
   "metadata": {},
   "source": [
    "We limit the time step, such that no compartment can fall below $0$ or can be larger than the population size. We add an [CFL factor](https://en.wikipedia.org/wiki/Courant%E2%80%93Friedrichs%E2%80%93Lewy_condition) as safety margin."
   ]
  },
  {
   "cell_type": "code",
   "execution_count": 23,
   "id": "0a8ffe96-19e8-41ef-ad59-72a4a8f60a11",
   "metadata": {},
   "outputs": [],
   "source": [
    "def f_dt(sim):\n",
    "    \n",
    "    cfl = 0.3\n",
    "    \n",
    "    dY = sim.Y.derivative()\n",
    "    bounds = (0., sim.pars.N)\n",
    "    \n",
    "    rneg = (sim.Y-bounds[0])/dY\n",
    "    rpos = (bounds[1]-sim.Y)/dY\n",
    "    \n",
    "    dtneg = np.where(dY<0., cfl*np.abs(rneg), 1.e100).min()\n",
    "    dtpos = np.where(dY>0., cfl*np.abs(rpos), 1.e100).min()\n",
    "    \n",
    "    dt = np.minimum(dtneg, dtpos)\n",
    "    \n",
    "    return dt"
   ]
  },
  {
   "cell_type": "code",
   "execution_count": 24,
   "id": "e0d736d6-abed-4b8f-97b5-cbf0bc26839d",
   "metadata": {},
   "outputs": [],
   "source": [
    "sim.t.updater = f_dt"
   ]
  },
  {
   "cell_type": "markdown",
   "id": "66a85739-babe-4e8b-b3ca-83ef57060b9a",
   "metadata": {},
   "source": [
    "We add a single integration instruction and integrate the state vector with the classical 4th order Runge-Kutta scheme."
   ]
  },
  {
   "cell_type": "code",
   "execution_count": 25,
   "id": "e91159d5-c8da-4ddd-bf45-9154c46a02a4",
   "metadata": {},
   "outputs": [],
   "source": [
    "from simframe import Integrator\n",
    "from simframe import Instruction\n",
    "from simframe import schemes"
   ]
  },
  {
   "cell_type": "code",
   "execution_count": 26,
   "id": "eca58539-212b-4b36-b0f4-efdcf1b81e03",
   "metadata": {},
   "outputs": [],
   "source": [
    "sim.integrator = Integrator(sim.t)"
   ]
  },
  {
   "cell_type": "code",
   "execution_count": 27,
   "id": "dca8dcf6-cec6-41cd-9e3c-38b2c00c45cf",
   "metadata": {},
   "outputs": [],
   "source": [
    "sim.integrator.instructions = [\n",
    "    Instruction(schemes.expl_4_runge_kutta, sim.Y)\n",
    "]"
   ]
  },
  {
   "cell_type": "markdown",
   "id": "1077caf3-8d46-47fc-a8b2-a143c901f0e3",
   "metadata": {},
   "source": [
    "We do not want to write output files. Instead we save the data in the simulation frame using the namespace writer. We set the verbosity to zero, because we do not want the writer to print every output on screen."
   ]
  },
  {
   "cell_type": "code",
   "execution_count": 28,
   "id": "75f016c5-2f76-4daf-9476-dd2ab0b27d7e",
   "metadata": {},
   "outputs": [],
   "source": [
    "from simframe import writers"
   ]
  },
  {
   "cell_type": "code",
   "execution_count": 29,
   "id": "08ba0649-d33a-4ea0-8d82-123ef4f52991",
   "metadata": {},
   "outputs": [],
   "source": [
    "sim.writer = writers.namespacewriter\n",
    "sim.writer.verbosity = 0"
   ]
  },
  {
   "cell_type": "markdown",
   "id": "f445ce3c-8c19-4b5b-9f71-6a9067ab1822",
   "metadata": {},
   "source": [
    "Before we start the simulation we have to update the frame to calculate the initial values of the reproduction numbers."
   ]
  },
  {
   "cell_type": "code",
   "execution_count": 30,
   "id": "957f1f6c-c3cc-4259-8978-3b8dc98d2c3e",
   "metadata": {},
   "outputs": [],
   "source": [
    "sim.update()"
   ]
  },
  {
   "cell_type": "markdown",
   "id": "c1e4b8b1-25d4-4608-946e-fac7bc2a9ce0",
   "metadata": {},
   "source": [
    "The complete structure of the model looks like this"
   ]
  },
  {
   "cell_type": "code",
   "execution_count": 31,
   "id": "44669b16-ea40-43a4-87f9-cb7900e7f546",
   "metadata": {},
   "outputs": [
    {
     "name": "stdout",
     "output_type": "stream",
     "text": [
      "\u001b[94mFrame (SIRD Model)\u001b[0m\n",
      "    - \u001b[94mcomp\u001b[0m: \u001b[94mGroup (Model Compartments)\u001b[0m\n",
      "        - \u001b[94mD\u001b[0m: Field (Deceased)\n",
      "        - \u001b[94mI\u001b[0m: Field (Infectious)\n",
      "        - \u001b[94mR\u001b[0m: Field (Recovered)\n",
      "        - \u001b[94mS\u001b[0m: Field (Susceptible)\n",
      "    - \u001b[94mpars\u001b[0m: \u001b[94mGroup (Model Parameters)\u001b[0m\n",
      "        - \u001b[94malpha\u001b[0m: Field (Transmission probability)\n",
      "        - \u001b[94mbeta\u001b[0m: Field (Recovery probability)\n",
      "        - \u001b[94mN\u001b[0m: Field (Total population size)\n",
      "        - \u001b[94mR0\u001b[0m: Field (Basic reproduction number)\n",
      "        - \u001b[94mR1\u001b[0m: Field (Contact rate)\n",
      "        - \u001b[94mR2\u001b[0m: Field (Inverse recovery time)\n",
      "        - \u001b[94mR3\u001b[0m: Field (Inverse time until death)\n",
      "        - \u001b[94mRt\u001b[0m: Field (Time-dependent reproduction number)\n",
      "    - \u001b[94mt\u001b[0m: IntVar (Time [days]), \u001b[95mIntegration variable\u001b[0m\n",
      "    - \u001b[94mY\u001b[0m: Field (State Vector)\n"
     ]
    }
   ],
   "source": [
    "sim.toc"
   ]
  },
  {
   "cell_type": "markdown",
   "id": "b608a49c-35c9-4d0b-b799-6587949e1bc5",
   "metadata": {},
   "source": [
    "The simulation is now ready to run."
   ]
  },
  {
   "cell_type": "code",
   "execution_count": 32,
   "id": "abe506b4-c097-435a-8dfc-1628bb010a0d",
   "metadata": {},
   "outputs": [
    {
     "name": "stdout",
     "output_type": "stream",
     "text": [
      "Execution time: \u001b[94m0:00:02\u001b[0m\n"
     ]
    }
   ],
   "source": [
    "sim.run()"
   ]
  },
  {
   "cell_type": "markdown",
   "id": "d0dc9670-04c0-4fef-8786-ea609e1ee073",
   "metadata": {},
   "source": [
    "We can now read the data and plot the results."
   ]
  },
  {
   "cell_type": "code",
   "execution_count": 33,
   "id": "488df91e-bfb7-47d1-99dc-42be07e8f841",
   "metadata": {},
   "outputs": [],
   "source": [
    "data = sim.writer.read.all()"
   ]
  },
  {
   "cell_type": "code",
   "execution_count": 34,
   "id": "43c7a1c2-e5d1-407e-a9a0-2208ada47465",
   "metadata": {},
   "outputs": [],
   "source": [
    "from matplotlib import pyplot as plt"
   ]
  },
  {
   "cell_type": "code",
   "execution_count": 35,
   "id": "3fb73fa7-012c-4775-8f23-3367ddab74d4",
   "metadata": {},
   "outputs": [],
   "source": [
    "def plot_model(data):\n",
    "    fig, ax = plt.subplots(dpi=150.)\n",
    "    for c in data.comp.__dict__:\n",
    "        ax.plot(data.t, data.comp.__dict__[c]/data.pars.N, label=c)\n",
    "    ax.plot(0., 0., \":\", c=\"black\", label=\"$R_t$\")\n",
    "    ax.legend(loc=\"upper right\")\n",
    "    ax.set_xlim(data.t[0], data.t[-1])\n",
    "    ax.set_ylim(-0.1, 1.1)\n",
    "    ax.set_xlabel(\"Time [days]\")\n",
    "    ax.set_ylabel(\"Compartment fraction\")\n",
    "    axr = ax.twinx()\n",
    "    axr.plot(data.t, data.pars.Rt, \":\", c=\"black\")\n",
    "    axr.axhline(1., ls=\"--\", lw=1, c=\"black\", alpha=0.25, zorder=-1)\n",
    "    axr.axhline(data.pars.R0[0], ls=\"--\", lw=1, c=\"black\", alpha=0.25, zorder=-1)\n",
    "    axr.set_ylabel(\"Reproduction number\")\n",
    "    axr.set_ylim(0., sim.pars.R0[0]+0.25)\n",
    "    fig.tight_layout()\n",
    "    return fig, ax"
   ]
  },
  {
   "cell_type": "code",
   "execution_count": 36,
   "id": "7b242e76-05fb-49bb-965d-e31409b0e82d",
   "metadata": {},
   "outputs": [
    {
     "data": {
      "image/png": "[encoded data removed]",
      "text/plain": [
       "<Figure size 900x600 with 2 Axes>"
      ]
     },
     "metadata": {
      "needs_background": "light"
     },
     "output_type": "display_data"
    }
   ],
   "source": [
    "fig, ax = plot_model(data)"
   ]
  },
  {
   "cell_type": "markdown",
   "id": "e698ab67-87a6-4171-b964-52f376ac47a4",
   "metadata": {},
   "source": [
    "In addition to the compartments we plot the reproduction number and horizontal lines for values of reproduction numbers for $1$ and the base reproduction number $R_0$. If the reproduction number is smaller than $1$, the population of the infectious compartment decreases, which can be easily seen in the plot."
   ]
  },
  {
   "cell_type": "markdown",
   "id": "f03481b0-dbc0-4106-a7dc-a94ee859e924",
   "metadata": {},
   "source": [
    "We can also print the final state on screen"
   ]
  },
  {
   "cell_type": "code",
   "execution_count": 37,
   "id": "357d1315-eedf-408c-9e9a-beeece550a28",
   "metadata": {},
   "outputs": [],
   "source": [
    "def print_state(sim):\n",
    "    for c in sim.comp.__dict__:\n",
    "        if c.startswith(\"_\"): continue\n",
    "        print(\"{:}: {:5.1f} %\".format(c, sim.comp.__dict__[c]/sim.pars.N*100.))\n",
    "    print(\"Rt: {:5.2f}\".format(sim.pars.Rt))"
   ]
  },
  {
   "cell_type": "code",
   "execution_count": 38,
   "id": "bc956490-bc35-4719-9c19-34c65719ab4a",
   "metadata": {},
   "outputs": [
    {
     "name": "stdout",
     "output_type": "stream",
     "text": [
      "S:   3.4 %\n",
      "I:   0.0 %\n",
      "R:  93.7 %\n",
      "D:   2.9 %\n",
      "Rt:  0.12\n"
     ]
    }
   ],
   "source": [
    "print_state(sim)"
   ]
  },
  {
   "cell_type": "markdown",
   "id": "71916f00-da4b-4ce8-a52d-a79bd5917b9e",
   "metadata": {},
   "source": [
    "At the end of the simulation about 2.9 % of the total population is deceased. This is very close to $\\beta$ as it should be, since almost the entire population got infected by the end of the simulation."
   ]
  },
  {
   "cell_type": "markdown",
   "id": "8329bafe-b58f-4972-84f8-83c2f2e7b8f9",
   "metadata": {},
   "source": [
    "At the peak of the infection wave about $100$ days after patient zero about $36\\,\\%$ of the population is infectious."
   ]
  },
  {
   "cell_type": "code",
   "execution_count": 39,
   "id": "a14a1933-a747-4f3f-b20b-e5080a2e2fe6",
   "metadata": {},
   "outputs": [
    {
     "name": "stdout",
     "output_type": "stream",
     "text": [
      "I_max: 35.6 %\n"
     ]
    }
   ],
   "source": [
    "print(\"I_max: {:4.1f} %\".format((data.comp.I/data.pars.N).max()*100.))"
   ]
  },
  {
   "cell_type": "markdown",
   "id": "de2d57bd-bcfd-4390-96d4-cfe5ed0bbe05",
   "metadata": {},
   "source": [
    "So far our model parameters have been constant with time. But let us assume the following situation.\n",
    "\n",
    "About $6\\,\\%$ of the people infected with our fictitious disease need to be treated in an intensive care unit (ICU). That means that at the peak of the wave the ICUs needed a capacity of about $2\\,\\%$ of the total population. Typical OECD countries have about $10$ ICU beds per $100~000$ population. In our scenario the health care system would be completely overwhelmed by the critial patients potentially increasing the chance of dying because of insufficiant medical care.\n",
    "\n",
    "We are going to run the simulation again assuming that $6\\,\\%$ of the infectious require intensive care and further assuming that those patients without a needed ICU bed have a $30$ times higher chance of dying. We can achieve this by increasing our $\\beta$ parameter accordingly and calculate an effective $\\beta$ parameter.\n",
    "\n",
    "$\\beta = \\beta_0 \\left[ 1 + \\frac{I_\\mathrm{w/o}}{I} \\left( f-1 \\right) \\right]$\n",
    "\n",
    "with $\\beta_0$ being the unmodified mortality, $I_\\mathrm{w/o}$ the number of infected without an ICU bed that need one, and $f$ a factor that increases the mortality for the latter."
   ]
  },
  {
   "cell_type": "code",
   "execution_count": 40,
   "id": "a3d76367-3fe5-46f3-831b-1ddf109e093d",
   "metadata": {},
   "outputs": [],
   "source": [
    "def f_beta_effective(sim):\n",
    "    \n",
    "    N = sim.pars.N\n",
    "    I = sim.comp.I\n",
    "    \n",
    "    # Maximum number of ICU beds\n",
    "    max_icu = 10./100_000. * N\n",
    "    # Infected requiring ICU bed\n",
    "    icu_req = 0.06*I\n",
    "    # Patients without ICU bed\n",
    "    I_wo = np.maximum(icu_req - max_icu, 0.)\n",
    "    # Increase in mortality\n",
    "    f = 30.\n",
    "    \n",
    "    return beta*(1+I_wo/I*(f-1))"
   ]
  },
  {
   "cell_type": "code",
   "execution_count": 41,
   "id": "180a2140-1c0d-486e-9c88-6e79af74f731",
   "metadata": {},
   "outputs": [],
   "source": [
    "sim.pars.beta.updater = f_beta_effective"
   ]
  },
  {
   "cell_type": "markdown",
   "id": "1e02c4db-8266-4554-bd74-698e2d37ee09",
   "metadata": {},
   "source": [
    "We then have to add the $\\beta$ parameters to the update order of the parameters group."
   ]
  },
  {
   "cell_type": "code",
   "execution_count": 42,
   "id": "056e6c90-3ab6-4060-bfa1-f99541dbf38e",
   "metadata": {},
   "outputs": [],
   "source": [
    "sim.pars.updater = sim.pars.updateorder + [\"beta\"]"
   ]
  },
  {
   "cell_type": "markdown",
   "id": "cada7e64-708e-49a3-8a04-c5915ad90169",
   "metadata": {},
   "source": [
    "We can now reset the simulation and run it again."
   ]
  },
  {
   "cell_type": "code",
   "execution_count": 43,
   "id": "85b9164c-3241-47b9-9073-12e23c178b9c",
   "metadata": {},
   "outputs": [],
   "source": [
    "sim.Y = Y0\n",
    "sim.t = 0.\n",
    "sim.update()\n",
    "sim.writer.reset()"
   ]
  },
  {
   "cell_type": "code",
   "execution_count": 44,
   "id": "42cf54cf-bdbd-4cfa-817f-c1cd243e087c",
   "metadata": {},
   "outputs": [
    {
     "name": "stdout",
     "output_type": "stream",
     "text": [
      "Execution time: \u001b[94m0:00:01\u001b[0m\n"
     ]
    }
   ],
   "source": [
    "sim.run()"
   ]
  },
  {
   "cell_type": "code",
   "execution_count": 45,
   "id": "5b1bb896-debf-4bac-9e8a-fedbb6d0d13f",
   "metadata": {},
   "outputs": [],
   "source": [
    "data_icu = sim.writer.read.all()"
   ]
  },
  {
   "cell_type": "code",
   "execution_count": 46,
   "id": "a0c2630c-6d59-48f2-90d1-0ce56173ba06",
   "metadata": {},
   "outputs": [
    {
     "data": {
      "image/png": "[encoded data removed]",
      "text/plain": [
       "<Figure size 900x600 with 2 Axes>"
      ]
     },
     "metadata": {
      "needs_background": "light"
     },
     "output_type": "display_data"
    }
   ],
   "source": [
    "fig, ax = plot_model(data_icu)"
   ]
  },
  {
   "cell_type": "code",
   "execution_count": 47,
   "id": "a04c61f6-fca2-41dc-8d1f-1191105e12ea",
   "metadata": {},
   "outputs": [
    {
     "name": "stdout",
     "output_type": "stream",
     "text": [
      "S:   3.4 %\n",
      "I:   0.0 %\n",
      "R:  88.8 %\n",
      "D:   7.8 %\n",
      "Rt:  0.12\n"
     ]
    }
   ],
   "source": [
    "print_state(sim)"
   ]
  },
  {
   "cell_type": "markdown",
   "id": "81e2a1af-30ae-430f-8b45-3644f27fe6c3",
   "metadata": {},
   "source": [
    "As can be seen the fraction of deceased is with almost $8\\,\\%$ more than twice as large as before, which accounts in our case to almost $500~000$ additional casualties."
   ]
  },
  {
   "cell_type": "code",
   "execution_count": 48,
   "id": "342a5d92-8aa4-48a9-be37-7358d839add0",
   "metadata": {},
   "outputs": [
    {
     "name": "stdout",
     "output_type": "stream",
     "text": [
      "Additional casualties: 490000\n"
     ]
    }
   ],
   "source": [
    "print(\"Additional casualties: {:d}\".format(int(N*(0.078-0.029))))"
   ]
  },
  {
   "cell_type": "markdown",
   "id": "7faf8e59-b28e-4afb-a30b-a111f1f4e15c",
   "metadata": {},
   "source": [
    "We can now further assume that some fictitious government implements some kind of contact restrictions as soon as the the ICU occupancy reaches a certain threshold. We can implement this in our model by reducing our $R_1$ parameter – the contact rate – accordingly. We assume that contact restrictions are implemented as soon as the ICU occupancy reaches $90\\,\\%$, which reduces the contact rate to $50\\,\\%$ of the initial value, and are lifted again as soon as the ICU occupation drops below $50\\,\\%$ again. We have therefore two thresholds and we need to know if restrictions are in place when crossing them. We are going to introduce a boolean parameter that stores if contact restrictions are in place or not."
   ]
  },
  {
   "cell_type": "code",
   "execution_count": 49,
   "id": "201aa757-2105-43de-86e5-e455b7009208",
   "metadata": {},
   "outputs": [],
   "source": [
    "sim.pars.addfield(\"contact_restrictions\", False, description=\"Contact Restrictions\")"
   ]
  },
  {
   "cell_type": "code",
   "execution_count": 50,
   "id": "a9495408-1689-45cd-b23d-d90b0cf0a394",
   "metadata": {},
   "outputs": [],
   "source": [
    "def f_R1(sim):\n",
    "    \n",
    "    N = sim.pars.N\n",
    "    I = sim.comp.I\n",
    "    restr = sim.pars.contact_restrictions\n",
    "    \n",
    "    # Maximum number ICU beds\n",
    "    max_icu = 10./100_000. * N\n",
    "    # Infected requiring ICU bed\n",
    "    icu_req = 0.06*I\n",
    "    # ICU occupation\n",
    "    icu_occup = icu_req/max_icu\n",
    "    \n",
    "    # Lower and upper thresholds\n",
    "    threshold = (0.5, 0.9)\n",
    "    \n",
    "    # Check if the restriction status changes\n",
    "    # If restrictions are in place and occupancy falls below threshold or\n",
    "    # if restrictions are not in place and occupancy goes above threshold\n",
    "    # we flip the contact restriction state\n",
    "    if (restr and icu_occup<threshold[0]) or (not restr and icu_occup>threshold[1]):\n",
    "        sim.pars.contact_restrictions = not restr\n",
    "        \n",
    "    # If we are restricted return lower contact rate\n",
    "    if restr:\n",
    "        return 0.5*R1\n",
    "    \n",
    "    # If we are not restriction return unperturbed contact rate\n",
    "    return R1"
   ]
  },
  {
   "cell_type": "code",
   "execution_count": 51,
   "id": "a0bbfb28-5ceb-418f-a08d-1235e8987193",
   "metadata": {},
   "outputs": [],
   "source": [
    "sim.pars.R1.updater = f_R1"
   ]
  },
  {
   "cell_type": "markdown",
   "id": "c03df9be-eb72-42b6-81bd-d06b4c2b01d9",
   "metadata": {},
   "source": [
    "And we have to add the updater to the list. The updater has to be inserted before the reproduction numbers, since they depend on $R_1$."
   ]
  },
  {
   "cell_type": "code",
   "execution_count": 52,
   "id": "0f30444f-a8b6-42f4-b907-11768f3212a4",
   "metadata": {},
   "outputs": [],
   "source": [
    "sim.pars.updater = [\"R1\"] + sim.pars.updateorder"
   ]
  },
  {
   "cell_type": "markdown",
   "id": "39fcc517-5943-408d-9314-dfe8b4093659",
   "metadata": {},
   "source": [
    "We can reset the simulation and run it again."
   ]
  },
  {
   "cell_type": "code",
   "execution_count": 53,
   "id": "1115b0a6-57ac-4dae-9b79-52241a5c6964",
   "metadata": {},
   "outputs": [],
   "source": [
    "sim.Y = Y0\n",
    "sim.t = 0.\n",
    "sim.update()\n",
    "sim.writer.reset()"
   ]
  },
  {
   "cell_type": "code",
   "execution_count": 54,
   "id": "242ea530-0546-47b9-a346-2bbf387c027b",
   "metadata": {},
   "outputs": [
    {
     "name": "stdout",
     "output_type": "stream",
     "text": [
      "Execution time: \u001b[94m0:00:01\u001b[0m\n"
     ]
    }
   ],
   "source": [
    "sim.run()"
   ]
  },
  {
   "cell_type": "code",
   "execution_count": 55,
   "id": "45ad656d-3217-4167-8d2e-29960b3d2020",
   "metadata": {},
   "outputs": [],
   "source": [
    "data_restr = sim.writer.read.all()"
   ]
  },
  {
   "cell_type": "code",
   "execution_count": 56,
   "id": "17e8afa0-9e39-4f80-b6c1-48f94478b183",
   "metadata": {},
   "outputs": [
    {
     "data": {
      "image/png": "[encoded data removed]",
      "text/plain": [
       "<Figure size 900x600 with 2 Axes>"
      ]
     },
     "metadata": {
      "needs_background": "light"
     },
     "output_type": "display_data"
    }
   ],
   "source": [
    "fig, ax = plot_model(data_restr)\n",
    "i0 = data_restr.pars.contact_restrictions.argmax()\n",
    "i1 = len(data.t)-data_restr.pars.contact_restrictions[::-1].argmax()-1\n",
    "ax.axvspan(data_restr.t[i0], data_restr.t[i1], edgecolor=\"#000000\", facecolor=\"None\", hatch=\"//\", alpha=0.2)\n",
    "plt.show()"
   ]
  },
  {
   "cell_type": "code",
   "execution_count": 57,
   "id": "38c22df0-a047-4625-8806-616d351db546",
   "metadata": {},
   "outputs": [
    {
     "name": "stdout",
     "output_type": "stream",
     "text": [
      "S:  28.6 %\n",
      "I:   0.1 %\n",
      "R:  65.7 %\n",
      "D:   5.7 %\n",
      "Rt:  1.00\n"
     ]
    }
   ],
   "source": [
    "print_state(sim)"
   ]
  },
  {
   "cell_type": "markdown",
   "id": "5e5f3b49-f695-4b02-be4d-e6ddc82ca59f",
   "metadata": {},
   "source": [
    "It is immeadiately visible that the peak of the infectious compartment is at only $11\\,\\%$ as opposed to the $36\\,\\%$ without restrictions."
   ]
  },
  {
   "cell_type": "code",
   "execution_count": 58,
   "id": "ce4ddd7e-2521-49bf-8aa5-0bdee8d4cc45",
   "metadata": {},
   "outputs": [
    {
     "name": "stdout",
     "output_type": "stream",
     "text": [
      "I_max: 10.9 %\n"
     ]
    }
   ],
   "source": [
    "print(\"I_max: {:4.1f} %\".format((data_restr.comp.I/data_restr.pars.N).max()*100.))"
   ]
  },
  {
   "cell_type": "markdown",
   "id": "b6a51158-0654-472f-aea9-16ba466943e3",
   "metadata": {},
   "source": [
    "The contact restrictions – the shaded region – are in place for about $330$ days."
   ]
  },
  {
   "cell_type": "code",
   "execution_count": 59,
   "id": "685b1953-105d-4a54-860a-4a71d1a56f86",
   "metadata": {},
   "outputs": [
    {
     "name": "stdout",
     "output_type": "stream",
     "text": [
      "Contact restrictions in place for 331 days.\n"
     ]
    }
   ],
   "source": [
    "i0 = data_restr.pars.contact_restrictions.argmax()\n",
    "i1 = len(data_restr.pars.contact_restrictions) - data_restr.pars.contact_restrictions[::-1].argmax() - 1\n",
    "print(\"Contact restrictions in place for {:d} days.\".format(int(data_restr.t[i1]-data_restr.t[0])))"
   ]
  },
  {
   "cell_type": "markdown",
   "id": "152ec784-2cfc-453c-b029-800c8fa2ad92",
   "metadata": {},
   "source": [
    "At the end of the simulation the fraction of deceased is at about $6\\,\\%$. Compared to our simulation without restrictions about $210~000$ lives were saved."
   ]
  },
  {
   "cell_type": "code",
   "execution_count": 60,
   "id": "12fed7ea-95be-4cd5-ac9b-545b1bb7111a",
   "metadata": {},
   "outputs": [
    {
     "name": "stdout",
     "output_type": "stream",
     "text": [
      "Lives saved by contact restrictions: 209999\n"
     ]
    }
   ],
   "source": [
    "print(\"Lives saved by contact restrictions: {:d}\".format(int(N*(0.078-0.057))))"
   ]
  },
  {
   "cell_type": "markdown",
   "id": "95cb43df-964f-4cca-a1e0-4251364d4d42",
   "metadata": {},
   "source": [
    "After the contact restrictions have been lifted, the reproduction number is stable at one, meaning the spread of the disease is contained."
   ]
  },
  {
   "cell_type": "markdown",
   "id": "64176ceb-d2ac-4451-bbb6-78d54bd58545",
   "metadata": {},
   "source": [
    "This model could also be used in the opposite direction. If the structured of the compartmental model is known, the model could be fitted to the data to get the disease parameters."
   ]
  },
  {
   "cell_type": "markdown",
   "id": "45029d7f-4032-417d-8db3-7c78bd586ee0",
   "metadata": {},
   "source": [
    "## SECIR Model"
   ]
  },
  {
   "cell_type": "markdown",
   "id": "c1e1783a-a6cb-4164-acc0-c7c50d22d383",
   "metadata": {},
   "source": [
    "As a second example we want to discuss the SECIR model described by [Khailaie et al. (2020)](https://doi.org/10.1101/2020.04.04.20053637) to model the outbreak of SARS-CoV-2.\n",
    "\n",
    "The model has eight compartments: $S$usceptible, $E$xposed, $C$arrier, $I$nfected, $R$ecovered, $H$ospitalized, Intensive Care $U$nit, and $D$ead. Compartments $C$ and $I$ are infectious and can infect individuals from compartment $S$. The differential equations governing the system are given by\n",
    "\n",
    "$\\frac{\\mathrm{d}}{\\mathrm{d}t} S = - R_1 \\frac{C + \\beta I}{N} S$\n",
    "\n",
    "$\\frac{\\mathrm{d}}{\\mathrm{d}t} E =  R_1 \\frac{C + \\beta I}{N} S - R_2 E$\n",
    "\n",
    "$\\frac{\\mathrm{d}}{\\mathrm{d}t} C =  R_2 E - \\left[\\left(1 - \\alpha\\right)R_3 + \\alpha R_9 \\right] C$\n",
    "\n",
    "$\\frac{\\mathrm{d}}{\\mathrm{d}t} I = \\left(1 - \\alpha\\right) R_3 C - \\left[\\left(1-\\rho\\right) R_4 + \\rho R_6 \\right] I$\n",
    "\n",
    "$\\frac{\\mathrm{d}}{\\mathrm{d}t} H = \\rho R_6 I  - \\left[\\left(1-\\vartheta\\right) R_5 + \\vartheta R_7 \\right] H$\n",
    "\n",
    "$\\frac{\\mathrm{d}}{\\mathrm{d}t} U = \\vartheta R_7 H - \\left[\\left(1-\\delta\\right) R_8 + \\delta d \\right] U$\n",
    "\n",
    "$\\frac{\\mathrm{d}}{\\mathrm{d}t} R = \\alpha R_9 C + \\left(1-\\rho\\right) R_4 I + \\left(1-\\vartheta\\right) R_5 H + \\left(1-\\delta\\right) R_8 U$\n",
    "\n",
    "$\\frac{\\mathrm{d}}{\\mathrm{d}t} D = \\delta d U$"
   ]
  },
  {
   "cell_type": "markdown",
   "id": "0768ab9f-1d25-464a-8ff4-e38b0b0e145b",
   "metadata": {},
   "source": [
    "The system can be graphically represented with [this chart](https://www.medrxiv.org/content/medrxiv/early/2020/04/07/2020.04.04.20053637/F1.large.jpg) from [Khailaie et al. (2020)](https://doi.org/10.1101/2020.04.04.20053637):"
   ]
  },
  {
   "cell_type": "markdown",
   "id": "6c2a9b9c-259c-42f8-8922-51a38eb703e4",
   "metadata": {},
   "source": [
    "$R_1$ is the product of median contact frequency and the transmission probability per contact of a susceptible $\\left(S\\right)$ and an infectious ($C$ or $I$) person. $\\beta < 1$ represents the combined risk attenuation factor of infection from symptomatic patients and patients that have not self-isolated effectively, yet. $\\frac{1}{R_2}$ is the median time until an exposed person becomes infectious. $\\frac{1}{R_2}+\\frac{1}{R_3}$ is the incubation period. $\\alpha$ is the fraction of asymptomatic cases.\n",
    "\n",
    "$\\rho$ is the fraction of symptomatic cases that require to be hopitalized. $\\frac{1}{R_4}$ is the median time until a symptomatic case recovers. $\\frac{1}{R_6}$ is the median time until a symptomatic case gets admitted to the hospital. $\\vartheta$ is the fraction of hospitalized patients that require intesive care. And $\\delta$ is the fraction of intensive care patients that die. $\\frac{1}{R_5}$ and $\\frac{1}{R_8}$ are the median times until hospitalized patients and intensive care patients recover. $\\frac{1}{R_9}$ is the median time an asymptomatic case remains infectious. And $\\frac{1}{d}$ is the median time until intensive care patients die."
   ]
  },
  {
   "cell_type": "markdown",
   "id": "344239ac-9685-4352-bb32-557c0f2f9645",
   "metadata": {},
   "source": [
    "In this model the basic reproduction number is given by\n",
    "\n",
    "$R_0 = R_1 \\frac{R_4\\left(1-\\rho\\right) + R_3\\beta\\left(1-\\alpha\\right) + R_6\\rho}{\\left[ R_3\\left(1-\\alpha\\right)+R_9\\alpha \\right] \\left[ R_4\\left(1-\\rho\\right)+R_6\\rho \\right]}$.\n",
    "\n",
    "The time-dependent reproduction number is given by \n",
    "\n",
    "$R_t = R_0\\frac{S}{N}$"
   ]
  },
  {
   "cell_type": "markdown",
   "id": "d54796da-75bc-4010-95f1-5f10628423df",
   "metadata": {},
   "source": [
    "These parameters can all vary with time, country, culture, and healthcare system. [Khailaie et al. (2020)](https://doi.org/10.1101/2020.04.04.20053637) used parameters from a fit to early data from Italy.\n",
    "\n",
    "We are going to use the following values in this example\n",
    "\n",
    "* $R_1 = 0.587\\,\\mathrm{days}$\n",
    "* $\\frac{1}{R_2} = 5.2\\,\\mathrm{days} - \\frac{1}{R_3}$ (Incubation period is $5.2\\,\\mathrm{days}$)\n",
    "* $R_3 = \\frac{1}{4.2\\,\\mathrm{days}}$\n",
    "* $R_4 = \\frac{1}{14\\,\\mathrm{days}}$\n",
    "* $R_5 = \\frac{1}{16\\,\\mathrm{days}}$\n",
    "* $R_6 = \\frac{1}{2.5\\,\\mathrm{days}}$\n",
    "* $R_7 = \\frac{1}{3.5\\,\\mathrm{days}}$\n",
    "* $R_8 = \\frac{1}{16\\,\\mathrm{days}}$\n",
    "* $\\frac{1}{R_9} = \\frac{1}{R_3} + \\frac{1}{2R_4}$\n",
    "* $d = \\frac{1}{6.92\\,\\mathrm{days}}$\n",
    "* $\\alpha = 0.01$\n",
    "* $\\beta = 0.05$\n",
    "* $\\delta = 0.15$\n",
    "* $\\vartheta = 0.15$\n",
    "* $\\delta = 0.35$"
   ]
  },
  {
   "cell_type": "markdown",
   "id": "e32cec49-4b2e-48dd-ba7b-1aa81fde4705",
   "metadata": {},
   "source": [
    "As before we are going to set up the model."
   ]
  },
  {
   "cell_type": "code",
   "execution_count": 61,
   "id": "50f0e046-22a4-476e-a5c6-18116121137e",
   "metadata": {},
   "outputs": [],
   "source": [
    "sim = Frame(description=\"Khailaie et al. (2020)\")"
   ]
  },
  {
   "cell_type": "code",
   "execution_count": 62,
   "id": "22de7453-c768-48a6-a1d0-a402743f47a1",
   "metadata": {},
   "outputs": [],
   "source": [
    "sim.addgroup(\"pars\", description=\"Model parameters\")\n",
    "sim.pars.addfield(\"N\", 0., description=\"Population size\")\n",
    "sim.pars.addfield(\"R0\", 0., description=\"Basic reproduction number\")\n",
    "sim.pars.addfield(\"Rt\", 0., description=\"Time-dependent reproduction number\")\n",
    "sim.pars.addfield(\"R1\", 0., description=\"S -> E\")\n",
    "sim.pars.addfield(\"R2\", 0., description=\"E -> C\")\n",
    "sim.pars.addfield(\"R3\", 0., description=\"C -> I\")\n",
    "sim.pars.addfield(\"R4\", 0., description=\"I -> R\")\n",
    "sim.pars.addfield(\"R5\", 0., description=\"H -> R\")\n",
    "sim.pars.addfield(\"R6\", 0., description=\"I -> H\")\n",
    "sim.pars.addfield(\"R7\", 0., description=\"H -> U\")\n",
    "sim.pars.addfield(\"R8\", 0., description=\"U -> R\")\n",
    "sim.pars.addfield(\"R9\", 0., description=\"C -> R\")\n",
    "sim.pars.addfield(\"d\", 0., description=\"U -> D\")\n",
    "sim.pars.addfield(\"alpha\", 0., description=\"Probability of asymptotic case\")\n",
    "sim.pars.addfield(\"beta\", 0., description=\"Infection attenuation\")\n",
    "sim.pars.addfield(\"delta\", 0., description=\"Mortality\")\n",
    "sim.pars.addfield(\"theta\", 0., description=\"ICU probability\")\n",
    "sim.pars.addfield(\"rho\", 0., description=\"Hospitalization probability\")"
   ]
  },
  {
   "cell_type": "code",
   "execution_count": 63,
   "id": "bd16bdd3-660c-41d1-980f-647232c5149b",
   "metadata": {},
   "outputs": [],
   "source": [
    "sim.pars.N = 10_000_000.\n",
    "sim.pars.R1 = 0.587\n",
    "sim.pars.R3 = 1./4.2\n",
    "sim.pars.R4 = 1./14.\n",
    "sim.pars.R5 = 1./16.\n",
    "sim.pars.R6 = 1./2.5\n",
    "sim.pars.R7 = 1./3.5\n",
    "sim.pars.R8 = 1./16.\n",
    "sim.pars.d = 1./6.92\n",
    "sim.pars.alpha = 0.01\n",
    "sim.pars.beta = 0.05\n",
    "sim.pars.delta = 0.15\n",
    "sim.pars.theta = 0.15\n",
    "sim.pars.rho = 0.35"
   ]
  },
  {
   "cell_type": "markdown",
   "id": "24da0d82-a655-4cc2-a8b5-caf5d0361ace",
   "metadata": {},
   "source": [
    "We define updater for some of the parameters."
   ]
  },
  {
   "cell_type": "code",
   "execution_count": 64,
   "id": "33f471dd-018c-4a46-ad8a-fb361f47030b",
   "metadata": {},
   "outputs": [],
   "source": [
    "def f_N(sim):\n",
    "    return sim.Y.sum()"
   ]
  },
  {
   "cell_type": "code",
   "execution_count": 65,
   "id": "3bdf48f3-d503-4a6e-beb8-ccca884c2995",
   "metadata": {},
   "outputs": [],
   "source": [
    "def f_R0(sim):\n",
    "    R1, R3, R4, R6, R9 = sim.pars.R1, sim.pars.R3, sim.pars.R4, sim.pars.R6, sim.pars.R9\n",
    "    alpha, beta, rho = sim.pars.alpha, sim.pars.beta, sim.pars.rho\n",
    "    return R1 * (R4*(1.-rho) + R3*beta*(1.-alpha) + R6*rho) / (R3*(1.-alpha) + R9*alpha) / (R4*(1.-rho) + R6*rho)"
   ]
  },
  {
   "cell_type": "code",
   "execution_count": 66,
   "id": "b3f5bb51-c270-41e4-b20b-e4b978928d0f",
   "metadata": {},
   "outputs": [],
   "source": [
    "def f_Rt(sim):\n",
    "    return sim.pars.R0*sim.comp.S/sim.pars.N"
   ]
  },
  {
   "cell_type": "code",
   "execution_count": 67,
   "id": "6bdd2d58-e963-45f8-b0f1-743e0769e96b",
   "metadata": {},
   "outputs": [],
   "source": [
    "def f_R2(sim):\n",
    "    inv = 5.2 - 1./sim.pars.R3\n",
    "    return 1./inv"
   ]
  },
  {
   "cell_type": "code",
   "execution_count": 68,
   "id": "dface461-5ea4-4499-b08b-6025d3de6c91",
   "metadata": {},
   "outputs": [],
   "source": [
    "def f_R9(sim):\n",
    "    inv = 1./sim.pars.R3 + 0.5/sim.pars.R4\n",
    "    return 1./inv"
   ]
  },
  {
   "cell_type": "code",
   "execution_count": 69,
   "id": "2e1ceaa4-d25a-4cc9-b603-4cfe14d6eaac",
   "metadata": {},
   "outputs": [],
   "source": [
    "sim.pars.N.updater = f_N\n",
    "sim.pars.R0.updater = f_R0\n",
    "sim.pars.Rt.updater = f_Rt\n",
    "sim.pars.R2.updater = f_R2\n",
    "sim.pars.R9.updater = f_R9"
   ]
  },
  {
   "cell_type": "code",
   "execution_count": 70,
   "id": "659ad165-b509-4f27-87ba-9fc0e387f95d",
   "metadata": {},
   "outputs": [],
   "source": [
    "sim.pars.updater = [\"N\", \"R2\", \"R9\", \"R0\", \"Rt\"]"
   ]
  },
  {
   "cell_type": "markdown",
   "id": "a492c232-caf4-4619-8cd5-d42302975e21",
   "metadata": {},
   "source": [
    "Again we store the comnpartments in the state vecotr $\\vec{Y}$."
   ]
  },
  {
   "cell_type": "code",
   "execution_count": 71,
   "id": "e9b36bc2-e276-4750-a97a-b77781878a8f",
   "metadata": {},
   "outputs": [],
   "source": [
    "Y = [sim.pars.N[0]-1, 0., 1., 0., 0., 0., 0., 0.]"
   ]
  },
  {
   "cell_type": "code",
   "execution_count": 72,
   "id": "5db5fd09-89b0-4ec7-adc5-684174dc9632",
   "metadata": {},
   "outputs": [],
   "source": [
    "sim.addfield(\"Y\", Y, description=\"State vector\")"
   ]
  },
  {
   "cell_type": "code",
   "execution_count": 73,
   "id": "2ada6b2b-d2ae-4261-afe9-39a52154aad8",
   "metadata": {},
   "outputs": [],
   "source": [
    "sim.addgroup(\"comp\", description=\"Compartments\")\n",
    "sim.comp.addfield(\"S\", 0., description=\"Susceptible\")\n",
    "sim.comp.addfield(\"E\", 0., description=\"Exposed\")\n",
    "sim.comp.addfield(\"C\", 0., description=\"Carrier\")\n",
    "sim.comp.addfield(\"I\", 0., description=\"Infected\")\n",
    "sim.comp.addfield(\"H\", 0., description=\"Hospitalized\")\n",
    "sim.comp.addfield(\"U\", 0., description=\"Intensive Care Unit\")\n",
    "sim.comp.addfield(\"R\", 0., description=\"Recovered\")\n",
    "sim.comp.addfield(\"D\", 0., description=\"Dead\")"
   ]
  },
  {
   "cell_type": "markdown",
   "id": "86078890-7703-4449-80e9-376a9bd7267e",
   "metadata": {},
   "source": [
    "And just copy their values into the compartments group in the systole."
   ]
  },
  {
   "cell_type": "code",
   "execution_count": 74,
   "id": "b959ce1f-704d-4dca-a48e-b227ee30f989",
   "metadata": {},
   "outputs": [],
   "source": [
    "def f_comp_systole(sim):\n",
    "    sim.comp.S = sim.Y[0]\n",
    "    sim.comp.E = sim.Y[1]\n",
    "    sim.comp.C = sim.Y[2]\n",
    "    sim.comp.I = sim.Y[3]\n",
    "    sim.comp.H = sim.Y[4]\n",
    "    sim.comp.U = sim.Y[5]\n",
    "    sim.comp.R = sim.Y[6]\n",
    "    sim.comp.D = sim.Y[7]"
   ]
  },
  {
   "cell_type": "code",
   "execution_count": 75,
   "id": "fc14e13d-5407-42ef-91b3-975adbed6762",
   "metadata": {},
   "outputs": [],
   "source": [
    "sim.comp.updater.systole = f_comp_systole"
   ]
  },
  {
   "cell_type": "code",
   "execution_count": 76,
   "id": "5d317f52-4975-4f97-b3b1-296aae699114",
   "metadata": {},
   "outputs": [],
   "source": [
    "sim.updater = [\"comp\", \"pars\"]"
   ]
  },
  {
   "cell_type": "markdown",
   "id": "9717cf6e-bb50-4d15-a4f1-02ec07f47fd1",
   "metadata": {},
   "source": [
    "The function with the differential equations."
   ]
  },
  {
   "cell_type": "code",
   "execution_count": 77,
   "id": "7e38005d-bcde-4d5c-b22b-5ff47e1badb2",
   "metadata": {},
   "outputs": [],
   "source": [
    "def f_dYdt(sim, x, Y):\n",
    "    \n",
    "    S, E, C, I, H, U, R, D = Y\n",
    "    alpha, beta, delta, theta, rho = sim.pars.alpha, sim.pars.beta, sim.pars.delta, sim.pars.theta, sim.pars.rho\n",
    "    N, d = sim.pars.N, sim.pars.d\n",
    "    R1, R2, R3, R4, R5, R6, R7, R8, R9 = sim.pars.R1, sim.pars.R2, sim.pars.R3, sim.pars.R4, sim.pars.R5, sim.pars.R6, sim.pars.R7, sim.pars.R8, sim.pars.R9\n",
    "    \n",
    "    dY = np.zeros_like(Y)\n",
    "    \n",
    "    dY[0] = -R1*(C+beta*I)*S/N\n",
    "    dY[1] = -dY[0] - R2*E\n",
    "    dY[2] = R2*E - ((1.-alpha)*R3 + alpha*R9)*C\n",
    "    dY[3] = (1.-alpha)*R3*C - ((1.-rho)*R4+rho*R6)*I\n",
    "    dY[4] = rho*R6*I - ((1.-theta)*R5+theta*R7)*H\n",
    "    dY[5] = theta*R7*H - ((1.-delta)*R8+delta*d)*U\n",
    "    dY[6] = alpha*R9*C + (1.-rho)*R4*I + (1.-theta)*R5*H + (1.-delta)*R8*U\n",
    "    dY[7] = -dY.sum()  # Since the total population size is constant, the last comaprtment is not independent\n",
    "    \n",
    "    return dY"
   ]
  },
  {
   "cell_type": "code",
   "execution_count": 78,
   "id": "e8aad400-5020-4292-b0da-e33bb925659c",
   "metadata": {},
   "outputs": [],
   "source": [
    "sim.Y.differentiator = f_dYdt"
   ]
  },
  {
   "cell_type": "markdown",
   "id": "6ed8c0e9-54b7-4ac3-b38f-567187314a32",
   "metadata": {},
   "source": [
    "And the integration variable. We are going to simulate the model for $180$ days."
   ]
  },
  {
   "cell_type": "code",
   "execution_count": 79,
   "id": "abff4684-1e85-45fc-9b4c-601ae32fb46e",
   "metadata": {},
   "outputs": [],
   "source": [
    "sim.addintegrationvariable(\"t\", 0., description=\"Time [days]\")"
   ]
  },
  {
   "cell_type": "code",
   "execution_count": 80,
   "id": "b29d8cb3-3701-440a-a1c7-64aa981c7bbb",
   "metadata": {},
   "outputs": [],
   "source": [
    "sim.t.snapshots = np.arange(1., 181., 1.)"
   ]
  },
  {
   "cell_type": "markdown",
   "id": "c29f3ddf-e269-41aa-b81d-f1b9ac8b362f",
   "metadata": {},
   "source": [
    "We are not going to define a custom function for the time step, that ensures that the compartments are always inbound. Instead we are using an adaptive integration scheme. Therefore the time step updater needs to return the suggested time step."
   ]
  },
  {
   "cell_type": "code",
   "execution_count": 81,
   "id": "6285f9ca-17ae-4e49-bd4a-1700d0210347",
   "metadata": {},
   "outputs": [],
   "source": [
    "def f_dt(sim):\n",
    "    return sim.t.suggested"
   ]
  },
  {
   "cell_type": "code",
   "execution_count": 82,
   "id": "0645c348-39cb-4a4f-95b2-08b7799d28be",
   "metadata": {},
   "outputs": [],
   "source": [
    "sim.t.updater = f_dt"
   ]
  },
  {
   "cell_type": "markdown",
   "id": "459bdc0b-0f48-4e21-8f2b-ea448a977e94",
   "metadata": {},
   "source": [
    "And we initialize it with a value of $1$ day."
   ]
  },
  {
   "cell_type": "code",
   "execution_count": 83,
   "id": "f866f646-0a05-4b0c-9729-d16283f608b8",
   "metadata": {},
   "outputs": [],
   "source": [
    "sim.t.suggest(1.)"
   ]
  },
  {
   "cell_type": "markdown",
   "id": "bff2c192-915c-4cc9-a218-bda0e491b23b",
   "metadata": {},
   "source": [
    "Then we define the integrator with a single integration instruction."
   ]
  },
  {
   "cell_type": "code",
   "execution_count": 84,
   "id": "12450de6-62ed-49b9-a21e-f9feb8c66a39",
   "metadata": {},
   "outputs": [],
   "source": [
    "sim.integrator = Integrator(sim.t)"
   ]
  },
  {
   "cell_type": "code",
   "execution_count": 85,
   "id": "cfdb49e3-51fd-4cd3-8175-4f127f3f7da9",
   "metadata": {},
   "outputs": [],
   "source": [
    "sim.integrator.instructions = [\n",
    "    Instruction(schemes.expl_5_cash_karp_adptv, sim.Y)\n",
    "]"
   ]
  },
  {
   "cell_type": "markdown",
   "id": "024b9850-723e-41da-ba38-bc503c01498d",
   "metadata": {},
   "source": [
    "We are using the namespace writer and turn off the verbosity."
   ]
  },
  {
   "cell_type": "code",
   "execution_count": 86,
   "id": "f29235e3-cef8-4f51-9de9-4d7c2a601fde",
   "metadata": {},
   "outputs": [],
   "source": [
    "sim.writer = writers.namespacewriter()\n",
    "sim.writer.verbosity = 0"
   ]
  },
  {
   "cell_type": "markdown",
   "id": "32f8b312-790f-4200-a2a1-97b9f9e4d74a",
   "metadata": {},
   "source": [
    "The model is now complete."
   ]
  },
  {
   "cell_type": "code",
   "execution_count": 87,
   "id": "ac76d03d-8caf-43fd-9887-fae4db4f7136",
   "metadata": {},
   "outputs": [
    {
     "name": "stdout",
     "output_type": "stream",
     "text": [
      "\u001b[94mFrame (Khailaie et al. (2020))\u001b[0m\n",
      "    - \u001b[94mcomp\u001b[0m: \u001b[94mGroup (Compartments)\u001b[0m\n",
      "        - \u001b[94mC\u001b[0m: Field (Carrier)\n",
      "        - \u001b[94mD\u001b[0m: Field (Dead)\n",
      "        - \u001b[94mE\u001b[0m: Field (Exposed)\n",
      "        - \u001b[94mH\u001b[0m: Field (Hospitalized)\n",
      "        - \u001b[94mI\u001b[0m: Field (Infected)\n",
      "        - \u001b[94mR\u001b[0m: Field (Recovered)\n",
      "        - \u001b[94mS\u001b[0m: Field (Susceptible)\n",
      "        - \u001b[94mU\u001b[0m: Field (Intensive Care Unit)\n",
      "    - \u001b[94mpars\u001b[0m: \u001b[94mGroup (Model parameters)\u001b[0m\n",
      "        - \u001b[94malpha\u001b[0m: Field (Probability of asymptotic case)\n",
      "        - \u001b[94mbeta\u001b[0m: Field (Infection attenuation)\n",
      "        - \u001b[94md\u001b[0m: Field (U -> D)\n",
      "        - \u001b[94mdelta\u001b[0m: Field (Mortality)\n",
      "        - \u001b[94mN\u001b[0m: Field (Population size)\n",
      "        - \u001b[94mR0\u001b[0m: Field (Basic reproduction number)\n",
      "        - \u001b[94mR1\u001b[0m: Field (S -> E)\n",
      "        - \u001b[94mR2\u001b[0m: Field (E -> C)\n",
      "        - \u001b[94mR3\u001b[0m: Field (C -> I)\n",
      "        - \u001b[94mR4\u001b[0m: Field (I -> R)\n",
      "        - \u001b[94mR5\u001b[0m: Field (H -> R)\n",
      "        - \u001b[94mR6\u001b[0m: Field (I -> H)\n",
      "        - \u001b[94mR7\u001b[0m: Field (H -> U)\n",
      "        - \u001b[94mR8\u001b[0m: Field (U -> R)\n",
      "        - \u001b[94mR9\u001b[0m: Field (C -> R)\n",
      "        - \u001b[94mrho\u001b[0m: Field (Hospitalization probability)\n",
      "        - \u001b[94mRt\u001b[0m: Field (Time-dependent reproduction number)\n",
      "        - \u001b[94mtheta\u001b[0m: Field (ICU probability)\n",
      "    - \u001b[94mt\u001b[0m: IntVar (Time [days]), \u001b[95mIntegration variable\u001b[0m\n",
      "    - \u001b[94mY\u001b[0m: Field (State vector)\n"
     ]
    }
   ],
   "source": [
    "sim.toc"
   ]
  },
  {
   "cell_type": "markdown",
   "id": "94761f8f-215c-4eca-9dfa-175ad0ccbef0",
   "metadata": {},
   "source": [
    "Before we can run the simulation we have to update the simulation frame."
   ]
  },
  {
   "cell_type": "code",
   "execution_count": 88,
   "id": "d27906c3-4ac3-4778-95ec-0961b5047118",
   "metadata": {},
   "outputs": [],
   "source": [
    "sim.update()"
   ]
  },
  {
   "cell_type": "code",
   "execution_count": 89,
   "id": "63e675fd-2050-4fd1-95f6-86e446742a95",
   "metadata": {},
   "outputs": [
    {
     "name": "stdout",
     "output_type": "stream",
     "text": [
      "Execution time: \u001b[94m0:00:01\u001b[0m\n"
     ]
    }
   ],
   "source": [
    "sim.run()"
   ]
  },
  {
   "cell_type": "markdown",
   "id": "4e315fb0-3f3f-4f61-8ca6-bd8bc7b42b35",
   "metadata": {},
   "source": [
    "After the simulation we can plot the results."
   ]
  },
  {
   "cell_type": "code",
   "execution_count": 90,
   "id": "6ed8443a-f60f-42c4-9df5-5c665a588e67",
   "metadata": {},
   "outputs": [],
   "source": [
    "data = sim.writer.read.all()"
   ]
  },
  {
   "cell_type": "code",
   "execution_count": 91,
   "id": "c3fd3a97-d1eb-4c31-83a4-b87a3a9fb3cf",
   "metadata": {},
   "outputs": [
    {
     "data": {
      "image/png": "[encoded data removed]",
      "text/plain": [
       "<Figure size 900x600 with 2 Axes>"
      ]
     },
     "metadata": {
      "needs_background": "light"
     },
     "output_type": "display_data"
    }
   ],
   "source": [
    "fig, ax = plot_model(data)"
   ]
  },
  {
   "cell_type": "code",
   "execution_count": 92,
   "id": "22583a48-7499-4a45-a9fe-142a76e9e726",
   "metadata": {},
   "outputs": [
    {
     "name": "stdout",
     "output_type": "stream",
     "text": [
      "S:   9.1 %\n",
      "E:   0.0 %\n",
      "C:   0.0 %\n",
      "I:   0.0 %\n",
      "H:   0.0 %\n",
      "U:   0.1 %\n",
      "R:  82.1 %\n",
      "D:   8.8 %\n",
      "Rt:  0.24\n"
     ]
    }
   ],
   "source": [
    "print_state(sim)"
   ]
  },
  {
   "cell_type": "markdown",
   "id": "63d5c61a-0379-4b81-997a-9daa3979a8bc",
   "metadata": {},
   "source": [
    "At the end of this simulation about $9\\,\\%$ of the population died."
   ]
  },
  {
   "cell_type": "code",
   "execution_count": 93,
   "id": "5dde7e41-8f07-4da2-8da8-8c466ba857d9",
   "metadata": {},
   "outputs": [
    {
     "name": "stdout",
     "output_type": "stream",
     "text": [
      "I_max:  9.3 %\n"
     ]
    }
   ],
   "source": [
    "print(\"I_max: {:4.1f} %\".format((data.comp.U/data.pars.N).max()*100.))"
   ]
  },
  {
   "cell_type": "markdown",
   "id": "34228706-53f0-44b4-b327-4b4dd2313d5b",
   "metadata": {},
   "source": [
    "At the peak of the infection wave. At the peak of the wave about $9\\,\\%$ of the population would require intensive care overwhelming any healthcare system in the world."
   ]
  },
  {
   "cell_type": "markdown",
   "id": "cef27d4f-64cb-42ce-b8a1-292f55e9d10a",
   "metadata": {},
   "source": [
    "Please note that there are more complex models and updated parameters available by now."
   ]
  }
 ],
 "metadata": {
  "kernelspec": {
   "display_name": "Python 3 (ipykernel)",
   "language": "python",
   "name": "python3"
  },
  "language_info": {
   "codemirror_mode": {
    "name": "ipython",
    "version": 3
   },
   "file_extension": ".py",
   "mimetype": "text/x-python",
   "name": "python",
   "nbconvert_exporter": "python",
   "pygments_lexer": "ipython3",
   "version": "3.9.7"
  }
 },
 "nbformat": 4,
 "nbformat_minor": 5
}
